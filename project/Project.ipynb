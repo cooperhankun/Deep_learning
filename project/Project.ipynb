{
 "cells": [
  {
   "cell_type": "markdown",
   "metadata": {},
   "source": []
  },
  {
   "cell_type": "code",
   "execution_count": 35,
   "metadata": {},
   "outputs": [],
   "source": [
    "import re\n",
    "import numpy as np\n",
    "import pandas as pd\n",
    "import matplotlib.pyplot as plt\n",
    "import seaborn as sns\n",
    "import nltk\n",
    "from sklearn.feature_extraction.text import TfidfVectorizer"
   ]
  },
  {
   "cell_type": "code",
   "execution_count": 34,
   "metadata": {},
   "outputs": [
    {
     "name": "stderr",
     "output_type": "stream",
     "text": [
      "[nltk_data] Downloading package stopwords to\n",
      "[nltk_data]     C:\\Users\\Kun\\AppData\\Roaming\\nltk_data...\n",
      "[nltk_data]   Unzipping corpora\\stopwords.zip.\n"
     ]
    },
    {
     "data": {
      "text/plain": [
       "True"
      ]
     },
     "execution_count": 34,
     "metadata": {},
     "output_type": "execute_result"
    }
   ],
   "source": [
    "nltk.download(\"stopwords\")"
   ]
  },
  {
   "cell_type": "code",
   "execution_count": 10,
   "metadata": {},
   "outputs": [
    {
     "data": {
      "text/html": [
       "<div>\n",
       "<style scoped>\n",
       "    .dataframe tbody tr th:only-of-type {\n",
       "        vertical-align: middle;\n",
       "    }\n",
       "\n",
       "    .dataframe tbody tr th {\n",
       "        vertical-align: top;\n",
       "    }\n",
       "\n",
       "    .dataframe thead th {\n",
       "        text-align: right;\n",
       "    }\n",
       "</style>\n",
       "<table border=\"1\" class=\"dataframe\">\n",
       "  <thead>\n",
       "    <tr style=\"text-align: right;\">\n",
       "      <th></th>\n",
       "      <th>ID</th>\n",
       "      <th>Resume_str</th>\n",
       "      <th>Resume_html</th>\n",
       "      <th>Category</th>\n",
       "      <th>Cleaned_Resume</th>\n",
       "    </tr>\n",
       "  </thead>\n",
       "  <tbody>\n",
       "    <tr>\n",
       "      <th>0</th>\n",
       "      <td>16852973</td>\n",
       "      <td>HR ADMINISTRATOR/MARKETING ASSOCIATE\\...</td>\n",
       "      <td>&lt;div class=\"fontsize fontface vmargins hmargin...</td>\n",
       "      <td>HR</td>\n",
       "      <td></td>\n",
       "    </tr>\n",
       "    <tr>\n",
       "      <th>1</th>\n",
       "      <td>22323967</td>\n",
       "      <td>HR SPECIALIST, US HR OPERATIONS      ...</td>\n",
       "      <td>&lt;div class=\"fontsize fontface vmargins hmargin...</td>\n",
       "      <td>HR</td>\n",
       "      <td></td>\n",
       "    </tr>\n",
       "    <tr>\n",
       "      <th>2</th>\n",
       "      <td>33176873</td>\n",
       "      <td>HR DIRECTOR       Summary      Over 2...</td>\n",
       "      <td>&lt;div class=\"fontsize fontface vmargins hmargin...</td>\n",
       "      <td>HR</td>\n",
       "      <td></td>\n",
       "    </tr>\n",
       "    <tr>\n",
       "      <th>3</th>\n",
       "      <td>27018550</td>\n",
       "      <td>HR SPECIALIST       Summary    Dedica...</td>\n",
       "      <td>&lt;div class=\"fontsize fontface vmargins hmargin...</td>\n",
       "      <td>HR</td>\n",
       "      <td></td>\n",
       "    </tr>\n",
       "    <tr>\n",
       "      <th>4</th>\n",
       "      <td>17812897</td>\n",
       "      <td>HR MANAGER         Skill Highlights  ...</td>\n",
       "      <td>&lt;div class=\"fontsize fontface vmargins hmargin...</td>\n",
       "      <td>HR</td>\n",
       "      <td></td>\n",
       "    </tr>\n",
       "  </tbody>\n",
       "</table>\n",
       "</div>"
      ],
      "text/plain": [
       "         ID                                         Resume_str  \\\n",
       "0  16852973           HR ADMINISTRATOR/MARKETING ASSOCIATE\\...   \n",
       "1  22323967           HR SPECIALIST, US HR OPERATIONS      ...   \n",
       "2  33176873           HR DIRECTOR       Summary      Over 2...   \n",
       "3  27018550           HR SPECIALIST       Summary    Dedica...   \n",
       "4  17812897           HR MANAGER         Skill Highlights  ...   \n",
       "\n",
       "                                         Resume_html Category Cleaned_Resume  \n",
       "0  <div class=\"fontsize fontface vmargins hmargin...       HR                 \n",
       "1  <div class=\"fontsize fontface vmargins hmargin...       HR                 \n",
       "2  <div class=\"fontsize fontface vmargins hmargin...       HR                 \n",
       "3  <div class=\"fontsize fontface vmargins hmargin...       HR                 \n",
       "4  <div class=\"fontsize fontface vmargins hmargin...       HR                 "
      ]
     },
     "execution_count": 10,
     "metadata": {},
     "output_type": "execute_result"
    }
   ],
   "source": [
    "df = pd.read_csv('Resume.csv' ,encoding='utf-8')\n",
    "df['Cleaned_Resume'] = ''\n",
    "df.head()"
   ]
  },
  {
   "cell_type": "code",
   "execution_count": 6,
   "metadata": {},
   "outputs": [
    {
     "name": "stdout",
     "output_type": "stream",
     "text": [
      "<class 'pandas.core.frame.DataFrame'>\n",
      "RangeIndex: 2484 entries, 0 to 2483\n",
      "Data columns (total 4 columns):\n",
      " #   Column       Non-Null Count  Dtype \n",
      "---  ------       --------------  ----- \n",
      " 0   ID           2484 non-null   int64 \n",
      " 1   Resume_str   2484 non-null   object\n",
      " 2   Resume_html  2484 non-null   object\n",
      " 3   Category     2484 non-null   object\n",
      "dtypes: int64(1), object(3)\n",
      "memory usage: 77.8+ KB\n"
     ]
    }
   ],
   "source": [
    "df.info()"
   ]
  },
  {
   "cell_type": "code",
   "execution_count": 7,
   "metadata": {},
   "outputs": [
    {
     "data": {
      "text/plain": [
       "Text(0.5, 1.0, 'The number of records for each category')"
      ]
     },
     "execution_count": 7,
     "metadata": {},
     "output_type": "execute_result"
    },
    {
     "data": {
      "image/png": "[encoded data removed]",
      "text/plain": [
       "<Figure size 1080x720 with 1 Axes>"
      ]
     },
     "metadata": {
      "needs_background": "light"
     },
     "output_type": "display_data"
    }
   ],
   "source": [
    "plt.figure(figsize=(15,10))\n",
    "plt.xticks(rotation=90)\n",
    "sns.countplot(y=\"Category\", data=df).set_title(\"The number of records for each category\")"
   ]
  },
  {
   "cell_type": "markdown",
   "metadata": {},
   "source": [
    "Preprocessing:\n",
    "\n",
    "In this stage, I followed basic cleaning processes for text analysis which includes:\n",
    "\n",
    "- converting characters to lowercases.\n",
    "- remove punctuations, numbers and foreign languages.\n",
    "- tokenize word. (spliting sentence into unigram)\n",
    "- stemming word. (convert to inflected form of word which is usually a root form)"
   ]
  },
  {
   "cell_type": "code",
   "execution_count": 18,
   "metadata": {},
   "outputs": [],
   "source": [
    "# def preprocess(txt):\n",
    "#     # convert all characters in the string to lower case\n",
    "#     txt = txt.lower()\n",
    "#     # remove non-english characters, punctuation and numbers\n",
    "#     txt = re.sub('[^a-zA-Z]', ' ', txt)\n",
    "#     txt = re.sub('http\\S+\\s*', ' ', txt)  # remove URLs\n",
    "#     txt = re.sub('RT|cc', ' ', txt)  # remove RT and cc\n",
    "#     txt = re.sub('#\\S+', '', txt)  # remove hashtags\n",
    "#     txt = re.sub('@\\S+', '  ', txt)  # remove mentions\n",
    "#     txt = re.sub('\\s+', ' ', txt)  # remove extra whitespace\n",
    "#     # tokenize word\n",
    "#     txt = nltk.tokenize.word_tokenize(txt)\n",
    "#     # remove stop words\n",
    "#     txt = [w for w in txt if not w in nltk.corpus.stopwords.words('english')]\n",
    "#     # stemming\n",
    "\n",
    "#     return ' '.join(txt)\n",
    "    "
   ]
  },
  {
   "cell_type": "code",
   "execution_count": 19,
   "metadata": {},
   "outputs": [],
   "source": [
    "# df['Resume_str'] = df['Resume_str'].apply(lambda w: preprocess(w))"
   ]
  },
  {
   "cell_type": "code",
   "execution_count": 36,
   "metadata": {},
   "outputs": [],
   "source": [
    "# df[[\"Resume_str\"]] = df[[\"Resume_str\"]].lower()"
   ]
  },
  {
   "cell_type": "code",
   "execution_count": 31,
   "metadata": {},
   "outputs": [],
   "source": [
    "def cleanResume(resumeText):\n",
    "    resumeText = re.sub('httpS+s*', ' ', resumeText)  # remove all the URLs\n",
    "    resumeText = re.sub('RT|cc', ' ', resumeText)  # remove RT and cc\n",
    "    resumeText = re.sub('#S+', '', resumeText)  # remove hashtags\n",
    "    resumeText = re.sub('@S+', '  ', resumeText)  # remove mentions\n",
    "    resumeText = re.sub('[%s]' % re.escape(\"\"\"!\"#$%&'()*+,-./:;<=>?@[]^_`{|}~\"\"\"), ' ', resumeText)  # remove punctuations\n",
    "    resumeText = re.sub(r'[^x00-x7f]',r' ', resumeText) \n",
    "    resumeText = re.sub('s+', ' ', resumeText)  # remove extra whitespace\n",
    "    return resumeText\n",
    "df['Cleaned_Resume'] = df.Resume_str.apply(lambda x: cleanResume(x))"
   ]
  },
  {
   "cell_type": "code",
   "execution_count": 39,
   "metadata": {},
   "outputs": [
    {
     "data": {
      "text/html": [
       "<div>\n",
       "<style scoped>\n",
       "    .dataframe tbody tr th:only-of-type {\n",
       "        vertical-align: middle;\n",
       "    }\n",
       "\n",
       "    .dataframe tbody tr th {\n",
       "        vertical-align: top;\n",
       "    }\n",
       "\n",
       "    .dataframe thead th {\n",
       "        text-align: right;\n",
       "    }\n",
       "</style>\n",
       "<table border=\"1\" class=\"dataframe\">\n",
       "  <thead>\n",
       "    <tr style=\"text-align: right;\">\n",
       "      <th></th>\n",
       "      <th>ID</th>\n",
       "      <th>Resume_str</th>\n",
       "      <th>Resume_html</th>\n",
       "      <th>Category</th>\n",
       "      <th>Cleaned_Resume</th>\n",
       "    </tr>\n",
       "  </thead>\n",
       "  <tbody>\n",
       "    <tr>\n",
       "      <th>0</th>\n",
       "      <td>16852973</td>\n",
       "      <td>HR ADMINISTRATOR/MARKETING ASSOCIATE\\...</td>\n",
       "      <td>&lt;div class=\"fontsize fontface vmargins hmargin...</td>\n",
       "      <td>HR</td>\n",
       "      <td>HR ADMINISTRATOR MARKETING ASSOCIATE ...</td>\n",
       "    </tr>\n",
       "    <tr>\n",
       "      <th>1</th>\n",
       "      <td>22323967</td>\n",
       "      <td>HR SPECIALIST, US HR OPERATIONS      ...</td>\n",
       "      <td>&lt;div class=\"fontsize fontface vmargins hmargin...</td>\n",
       "      <td>HR</td>\n",
       "      <td>HR SPECIALIST  US HR OPERATIONS      ...</td>\n",
       "    </tr>\n",
       "    <tr>\n",
       "      <th>2</th>\n",
       "      <td>33176873</td>\n",
       "      <td>HR DIRECTOR       Summary      Over 2...</td>\n",
       "      <td>&lt;div class=\"fontsize fontface vmargins hmargin...</td>\n",
       "      <td>HR</td>\n",
       "      <td>HR DIRECTOR       Summar       Over 2...</td>\n",
       "    </tr>\n",
       "    <tr>\n",
       "      <th>3</th>\n",
       "      <td>27018550</td>\n",
       "      <td>HR SPECIALIST       Summary    Dedica...</td>\n",
       "      <td>&lt;div class=\"fontsize fontface vmargins hmargin...</td>\n",
       "      <td>HR</td>\n",
       "      <td>HR SPECIALIST       Summar     Dedica...</td>\n",
       "    </tr>\n",
       "    <tr>\n",
       "      <th>4</th>\n",
       "      <td>17812897</td>\n",
       "      <td>HR MANAGER         Skill Highlights  ...</td>\n",
       "      <td>&lt;div class=\"fontsize fontface vmargins hmargin...</td>\n",
       "      <td>HR</td>\n",
       "      <td>HR MANAGER         Skill Highlight   ...</td>\n",
       "    </tr>\n",
       "  </tbody>\n",
       "</table>\n",
       "</div>"
      ],
      "text/plain": [
       "         ID                                         Resume_str  \\\n",
       "0  16852973           HR ADMINISTRATOR/MARKETING ASSOCIATE\\...   \n",
       "1  22323967           HR SPECIALIST, US HR OPERATIONS      ...   \n",
       "2  33176873           HR DIRECTOR       Summary      Over 2...   \n",
       "3  27018550           HR SPECIALIST       Summary    Dedica...   \n",
       "4  17812897           HR MANAGER         Skill Highlights  ...   \n",
       "\n",
       "                                         Resume_html Category  \\\n",
       "0  <div class=\"fontsize fontface vmargins hmargin...       HR   \n",
       "1  <div class=\"fontsize fontface vmargins hmargin...       HR   \n",
       "2  <div class=\"fontsize fontface vmargins hmargin...       HR   \n",
       "3  <div class=\"fontsize fontface vmargins hmargin...       HR   \n",
       "4  <div class=\"fontsize fontface vmargins hmargin...       HR   \n",
       "\n",
       "                                      Cleaned_Resume  \n",
       "0           HR ADMINISTRATOR MARKETING ASSOCIATE ...  \n",
       "1           HR SPECIALIST  US HR OPERATIONS      ...  \n",
       "2           HR DIRECTOR       Summar       Over 2...  \n",
       "3           HR SPECIALIST       Summar     Dedica...  \n",
       "4           HR MANAGER         Skill Highlight   ...  "
      ]
     },
     "execution_count": 39,
     "metadata": {},
     "output_type": "execute_result"
    }
   ],
   "source": [
    "df.head()"
   ]
  },
  {
   "cell_type": "code",
   "execution_count": 43,
   "metadata": {},
   "outputs": [
    {
     "ename": "KeyError",
     "evalue": "'Category'",
     "output_type": "error",
     "traceback": [
      "\u001b[1;31m---------------------------------------------------------------------------\u001b[0m",
      "\u001b[1;31mKeyError\u001b[0m                                  Traceback (most recent call last)",
      "File \u001b[1;32mc:\\Users\\Kun\\.virtualenvs\\Deep_learning-JeCDGH9C\\lib\\site-packages\\pandas\\core\\indexes\\base.py:3621\u001b[0m, in \u001b[0;36mIndex.get_loc\u001b[1;34m(self, key, method, tolerance)\u001b[0m\n\u001b[0;32m   <a href='file:///c%3A/Users/Kun/.virtualenvs/Deep_learning-JeCDGH9C/lib/site-packages/pandas/core/indexes/base.py?line=3619'>3620</a>\u001b[0m \u001b[39mtry\u001b[39;00m:\n\u001b[1;32m-> <a href='file:///c%3A/Users/Kun/.virtualenvs/Deep_learning-JeCDGH9C/lib/site-packages/pandas/core/indexes/base.py?line=3620'>3621</a>\u001b[0m     \u001b[39mreturn\u001b[39;00m \u001b[39mself\u001b[39;49m\u001b[39m.\u001b[39;49m_engine\u001b[39m.\u001b[39;49mget_loc(casted_key)\n\u001b[0;32m   <a href='file:///c%3A/Users/Kun/.virtualenvs/Deep_learning-JeCDGH9C/lib/site-packages/pandas/core/indexes/base.py?line=3621'>3622</a>\u001b[0m \u001b[39mexcept\u001b[39;00m \u001b[39mKeyError\u001b[39;00m \u001b[39mas\u001b[39;00m err:\n",
      "File \u001b[1;32mc:\\Users\\Kun\\.virtualenvs\\Deep_learning-JeCDGH9C\\lib\\site-packages\\pandas\\_libs\\index.pyx:136\u001b[0m, in \u001b[0;36mpandas._libs.index.IndexEngine.get_loc\u001b[1;34m()\u001b[0m\n",
      "File \u001b[1;32mc:\\Users\\Kun\\.virtualenvs\\Deep_learning-JeCDGH9C\\lib\\site-packages\\pandas\\_libs\\index.pyx:163\u001b[0m, in \u001b[0;36mpandas._libs.index.IndexEngine.get_loc\u001b[1;34m()\u001b[0m\n",
      "File \u001b[1;32mpandas\\_libs\\hashtable_class_helper.pxi:5198\u001b[0m, in \u001b[0;36mpandas._libs.hashtable.PyObjectHashTable.get_item\u001b[1;34m()\u001b[0m\n",
      "File \u001b[1;32mpandas\\_libs\\hashtable_class_helper.pxi:5206\u001b[0m, in \u001b[0;36mpandas._libs.hashtable.PyObjectHashTable.get_item\u001b[1;34m()\u001b[0m\n",
      "\u001b[1;31mKeyError\u001b[0m: 'Category'",
      "\nThe above exception was the direct cause of the following exception:\n",
      "\u001b[1;31mKeyError\u001b[0m                                  Traceback (most recent call last)",
      "\u001b[1;32mc:\\Users\\Kun\\Documents\\GitHub\\Deep_learning\\project\\Project.ipynb Cell 13'\u001b[0m in \u001b[0;36m<cell line: 2>\u001b[1;34m()\u001b[0m\n\u001b[0;32m      <a href='vscode-notebook-cell:/c%3A/Users/Kun/Documents/GitHub/Deep_learning/project/Project.ipynb#ch0000016?line=0'>1</a>\u001b[0m df_onehot \u001b[39m=\u001b[39m pd\u001b[39m.\u001b[39mget_dummies(df, columns\u001b[39m=\u001b[39m[\u001b[39m\"\u001b[39m\u001b[39mCategory\u001b[39m\u001b[39m\"\u001b[39m], drop_first\u001b[39m=\u001b[39m\u001b[39mTrue\u001b[39;00m)\n\u001b[1;32m----> <a href='vscode-notebook-cell:/c%3A/Users/Kun/Documents/GitHub/Deep_learning/project/Project.ipynb#ch0000016?line=1'>2</a>\u001b[0m X, y \u001b[39m=\u001b[39m df_onehot[\u001b[39m\"\u001b[39m\u001b[39mCleaned_Resume\u001b[39m\u001b[39m\"\u001b[39m], df_onehot[\u001b[39m\"\u001b[39;49m\u001b[39mCategory\u001b[39;49m\u001b[39m\"\u001b[39;49m]\n",
      "File \u001b[1;32mc:\\Users\\Kun\\.virtualenvs\\Deep_learning-JeCDGH9C\\lib\\site-packages\\pandas\\core\\frame.py:3505\u001b[0m, in \u001b[0;36mDataFrame.__getitem__\u001b[1;34m(self, key)\u001b[0m\n\u001b[0;32m   <a href='file:///c%3A/Users/Kun/.virtualenvs/Deep_learning-JeCDGH9C/lib/site-packages/pandas/core/frame.py?line=3502'>3503</a>\u001b[0m \u001b[39mif\u001b[39;00m \u001b[39mself\u001b[39m\u001b[39m.\u001b[39mcolumns\u001b[39m.\u001b[39mnlevels \u001b[39m>\u001b[39m \u001b[39m1\u001b[39m:\n\u001b[0;32m   <a href='file:///c%3A/Users/Kun/.virtualenvs/Deep_learning-JeCDGH9C/lib/site-packages/pandas/core/frame.py?line=3503'>3504</a>\u001b[0m     \u001b[39mreturn\u001b[39;00m \u001b[39mself\u001b[39m\u001b[39m.\u001b[39m_getitem_multilevel(key)\n\u001b[1;32m-> <a href='file:///c%3A/Users/Kun/.virtualenvs/Deep_learning-JeCDGH9C/lib/site-packages/pandas/core/frame.py?line=3504'>3505</a>\u001b[0m indexer \u001b[39m=\u001b[39m \u001b[39mself\u001b[39;49m\u001b[39m.\u001b[39;49mcolumns\u001b[39m.\u001b[39;49mget_loc(key)\n\u001b[0;32m   <a href='file:///c%3A/Users/Kun/.virtualenvs/Deep_learning-JeCDGH9C/lib/site-packages/pandas/core/frame.py?line=3505'>3506</a>\u001b[0m \u001b[39mif\u001b[39;00m is_integer(indexer):\n\u001b[0;32m   <a href='file:///c%3A/Users/Kun/.virtualenvs/Deep_learning-JeCDGH9C/lib/site-packages/pandas/core/frame.py?line=3506'>3507</a>\u001b[0m     indexer \u001b[39m=\u001b[39m [indexer]\n",
      "File \u001b[1;32mc:\\Users\\Kun\\.virtualenvs\\Deep_learning-JeCDGH9C\\lib\\site-packages\\pandas\\core\\indexes\\base.py:3623\u001b[0m, in \u001b[0;36mIndex.get_loc\u001b[1;34m(self, key, method, tolerance)\u001b[0m\n\u001b[0;32m   <a href='file:///c%3A/Users/Kun/.virtualenvs/Deep_learning-JeCDGH9C/lib/site-packages/pandas/core/indexes/base.py?line=3620'>3621</a>\u001b[0m     \u001b[39mreturn\u001b[39;00m \u001b[39mself\u001b[39m\u001b[39m.\u001b[39m_engine\u001b[39m.\u001b[39mget_loc(casted_key)\n\u001b[0;32m   <a href='file:///c%3A/Users/Kun/.virtualenvs/Deep_learning-JeCDGH9C/lib/site-packages/pandas/core/indexes/base.py?line=3621'>3622</a>\u001b[0m \u001b[39mexcept\u001b[39;00m \u001b[39mKeyError\u001b[39;00m \u001b[39mas\u001b[39;00m err:\n\u001b[1;32m-> <a href='file:///c%3A/Users/Kun/.virtualenvs/Deep_learning-JeCDGH9C/lib/site-packages/pandas/core/indexes/base.py?line=3622'>3623</a>\u001b[0m     \u001b[39mraise\u001b[39;00m \u001b[39mKeyError\u001b[39;00m(key) \u001b[39mfrom\u001b[39;00m \u001b[39merr\u001b[39;00m\n\u001b[0;32m   <a href='file:///c%3A/Users/Kun/.virtualenvs/Deep_learning-JeCDGH9C/lib/site-packages/pandas/core/indexes/base.py?line=3623'>3624</a>\u001b[0m \u001b[39mexcept\u001b[39;00m \u001b[39mTypeError\u001b[39;00m:\n\u001b[0;32m   <a href='file:///c%3A/Users/Kun/.virtualenvs/Deep_learning-JeCDGH9C/lib/site-packages/pandas/core/indexes/base.py?line=3624'>3625</a>\u001b[0m     \u001b[39m# If we have a listlike key, _check_indexing_error will raise\u001b[39;00m\n\u001b[0;32m   <a href='file:///c%3A/Users/Kun/.virtualenvs/Deep_learning-JeCDGH9C/lib/site-packages/pandas/core/indexes/base.py?line=3625'>3626</a>\u001b[0m     \u001b[39m#  InvalidIndexError. Otherwise we fall through and re-raise\u001b[39;00m\n\u001b[0;32m   <a href='file:///c%3A/Users/Kun/.virtualenvs/Deep_learning-JeCDGH9C/lib/site-packages/pandas/core/indexes/base.py?line=3626'>3627</a>\u001b[0m     \u001b[39m#  the TypeError.\u001b[39;00m\n\u001b[0;32m   <a href='file:///c%3A/Users/Kun/.virtualenvs/Deep_learning-JeCDGH9C/lib/site-packages/pandas/core/indexes/base.py?line=3627'>3628</a>\u001b[0m     \u001b[39mself\u001b[39m\u001b[39m.\u001b[39m_check_indexing_error(key)\n",
      "\u001b[1;31mKeyError\u001b[0m: 'Category'"
     ]
    }
   ],
   "source": [
    "df_onehot = pd.get_dummies(df, columns=[\"Category\"], drop_first=True)\n",
    "X, y = df_onehot[\"Cleaned_Resume\"], df_onehot[\"Category\"]\n"
   ]
  },
  {
   "cell_type": "code",
   "execution_count": 44,
   "metadata": {},
   "outputs": [
    {
     "ename": "ServiceRequestError",
     "evalue": "<urllib3.connection.HTTPSConnection object at 0x000001FDA21AC3A0>: Failed to establish a new connection: [Errno 11001] getaddrinfo failed",
     "output_type": "error",
     "traceback": [
      "\u001b[1;31m---------------------------------------------------------------------------\u001b[0m",
      "\u001b[1;31mServiceRequestError\u001b[0m                       Traceback (most recent call last)",
      "\u001b[1;32mc:\\Users\\Kun\\Documents\\GitHub\\Deep_learning\\project\\Project.ipynb Cell 14'\u001b[0m in \u001b[0;36m<cell line: 7>\u001b[1;34m()\u001b[0m\n\u001b[0;32m      <a href='vscode-notebook-cell:/c%3A/Users/Kun/Documents/GitHub/Deep_learning/project/Project.ipynb#ch0000017?line=4'>5</a>\u001b[0m credential \u001b[39m=\u001b[39m TokenCredential(token\u001b[39m=\u001b[39mtoken)\n\u001b[0;32m      <a href='vscode-notebook-cell:/c%3A/Users/Kun/Documents/GitHub/Deep_learning/project/Project.ipynb#ch0000017?line=5'>6</a>\u001b[0m client \u001b[39m=\u001b[39m AffindaAPI(credential\u001b[39m=\u001b[39mcredential)\n\u001b[1;32m----> <a href='vscode-notebook-cell:/c%3A/Users/Kun/Documents/GitHub/Deep_learning/project/Project.ipynb#ch0000017?line=6'>7</a>\u001b[0m all_resumes \u001b[39m=\u001b[39m client\u001b[39m.\u001b[39;49mget_all_resumes()\n\u001b[0;32m      <a href='vscode-notebook-cell:/c%3A/Users/Kun/Documents/GitHub/Deep_learning/project/Project.ipynb#ch0000017?line=8'>9</a>\u001b[0m \u001b[39mprint\u001b[39m(all_resumes\u001b[39m.\u001b[39mas_dict())\n",
      "File \u001b[1;32mc:\\Users\\Kun\\.virtualenvs\\Deep_learning-JeCDGH9C\\lib\\site-packages\\affinda\\operations\\_affinda_api_operations.py:863\u001b[0m, in \u001b[0;36mAffindaAPIOperationsMixin.get_all_resumes\u001b[1;34m(self, offset, limit, **kwargs)\u001b[0m\n\u001b[0;32m    <a href='file:///c%3A/Users/Kun/.virtualenvs/Deep_learning-JeCDGH9C/lib/site-packages/affinda/operations/_affinda_api_operations.py?line=859'>860</a>\u001b[0m request \u001b[39m=\u001b[39m _convert_request(request)\n\u001b[0;32m    <a href='file:///c%3A/Users/Kun/.virtualenvs/Deep_learning-JeCDGH9C/lib/site-packages/affinda/operations/_affinda_api_operations.py?line=860'>861</a>\u001b[0m request\u001b[39m.\u001b[39murl \u001b[39m=\u001b[39m \u001b[39mself\u001b[39m\u001b[39m.\u001b[39m_client\u001b[39m.\u001b[39mformat_url(request\u001b[39m.\u001b[39murl)\n\u001b[1;32m--> <a href='file:///c%3A/Users/Kun/.virtualenvs/Deep_learning-JeCDGH9C/lib/site-packages/affinda/operations/_affinda_api_operations.py?line=862'>863</a>\u001b[0m pipeline_response \u001b[39m=\u001b[39m \u001b[39mself\u001b[39m\u001b[39m.\u001b[39m_client\u001b[39m.\u001b[39m_pipeline\u001b[39m.\u001b[39mrun(request, stream\u001b[39m=\u001b[39m\u001b[39mFalse\u001b[39;00m, \u001b[39m*\u001b[39m\u001b[39m*\u001b[39mkwargs)\n\u001b[0;32m    <a href='file:///c%3A/Users/Kun/.virtualenvs/Deep_learning-JeCDGH9C/lib/site-packages/affinda/operations/_affinda_api_operations.py?line=863'>864</a>\u001b[0m response \u001b[39m=\u001b[39m pipeline_response\u001b[39m.\u001b[39mhttp_response\n\u001b[0;32m    <a href='file:///c%3A/Users/Kun/.virtualenvs/Deep_learning-JeCDGH9C/lib/site-packages/affinda/operations/_affinda_api_operations.py?line=865'>866</a>\u001b[0m \u001b[39mif\u001b[39;00m response\u001b[39m.\u001b[39mstatus_code \u001b[39mnot\u001b[39;00m \u001b[39min\u001b[39;00m [\u001b[39m200\u001b[39m, \u001b[39m400\u001b[39m, \u001b[39m401\u001b[39m, \u001b[39m404\u001b[39m]:\n",
      "File \u001b[1;32mc:\\Users\\Kun\\.virtualenvs\\Deep_learning-JeCDGH9C\\lib\\site-packages\\azure\\core\\pipeline\\_base.py:211\u001b[0m, in \u001b[0;36mPipeline.run\u001b[1;34m(self, request, **kwargs)\u001b[0m\n\u001b[0;32m    <a href='file:///c%3A/Users/Kun/.virtualenvs/Deep_learning-JeCDGH9C/lib/site-packages/azure/core/pipeline/_base.py?line=202'>203</a>\u001b[0m pipeline_request \u001b[39m=\u001b[39m PipelineRequest(\n\u001b[0;32m    <a href='file:///c%3A/Users/Kun/.virtualenvs/Deep_learning-JeCDGH9C/lib/site-packages/azure/core/pipeline/_base.py?line=203'>204</a>\u001b[0m     request, context\n\u001b[0;32m    <a href='file:///c%3A/Users/Kun/.virtualenvs/Deep_learning-JeCDGH9C/lib/site-packages/azure/core/pipeline/_base.py?line=204'>205</a>\u001b[0m )  \u001b[39m# type: PipelineRequest[HTTPRequestType]\u001b[39;00m\n\u001b[0;32m    <a href='file:///c%3A/Users/Kun/.virtualenvs/Deep_learning-JeCDGH9C/lib/site-packages/azure/core/pipeline/_base.py?line=205'>206</a>\u001b[0m first_node \u001b[39m=\u001b[39m (\n\u001b[0;32m    <a href='file:///c%3A/Users/Kun/.virtualenvs/Deep_learning-JeCDGH9C/lib/site-packages/azure/core/pipeline/_base.py?line=206'>207</a>\u001b[0m     \u001b[39mself\u001b[39m\u001b[39m.\u001b[39m_impl_policies[\u001b[39m0\u001b[39m]\n\u001b[0;32m    <a href='file:///c%3A/Users/Kun/.virtualenvs/Deep_learning-JeCDGH9C/lib/site-packages/azure/core/pipeline/_base.py?line=207'>208</a>\u001b[0m     \u001b[39mif\u001b[39;00m \u001b[39mself\u001b[39m\u001b[39m.\u001b[39m_impl_policies\n\u001b[0;32m    <a href='file:///c%3A/Users/Kun/.virtualenvs/Deep_learning-JeCDGH9C/lib/site-packages/azure/core/pipeline/_base.py?line=208'>209</a>\u001b[0m     \u001b[39melse\u001b[39;00m _TransportRunner(\u001b[39mself\u001b[39m\u001b[39m.\u001b[39m_transport)\n\u001b[0;32m    <a href='file:///c%3A/Users/Kun/.virtualenvs/Deep_learning-JeCDGH9C/lib/site-packages/azure/core/pipeline/_base.py?line=209'>210</a>\u001b[0m )\n\u001b[1;32m--> <a href='file:///c%3A/Users/Kun/.virtualenvs/Deep_learning-JeCDGH9C/lib/site-packages/azure/core/pipeline/_base.py?line=210'>211</a>\u001b[0m \u001b[39mreturn\u001b[39;00m first_node\u001b[39m.\u001b[39;49msend(pipeline_request)\n",
      "File \u001b[1;32mc:\\Users\\Kun\\.virtualenvs\\Deep_learning-JeCDGH9C\\lib\\site-packages\\azure\\core\\pipeline\\_base.py:71\u001b[0m, in \u001b[0;36m_SansIOHTTPPolicyRunner.send\u001b[1;34m(self, request)\u001b[0m\n\u001b[0;32m     <a href='file:///c%3A/Users/Kun/.virtualenvs/Deep_learning-JeCDGH9C/lib/site-packages/azure/core/pipeline/_base.py?line=68'>69</a>\u001b[0m _await_result(\u001b[39mself\u001b[39m\u001b[39m.\u001b[39m_policy\u001b[39m.\u001b[39mon_request, request)\n\u001b[0;32m     <a href='file:///c%3A/Users/Kun/.virtualenvs/Deep_learning-JeCDGH9C/lib/site-packages/azure/core/pipeline/_base.py?line=69'>70</a>\u001b[0m \u001b[39mtry\u001b[39;00m:\n\u001b[1;32m---> <a href='file:///c%3A/Users/Kun/.virtualenvs/Deep_learning-JeCDGH9C/lib/site-packages/azure/core/pipeline/_base.py?line=70'>71</a>\u001b[0m     response \u001b[39m=\u001b[39m \u001b[39mself\u001b[39;49m\u001b[39m.\u001b[39;49mnext\u001b[39m.\u001b[39;49msend(request)\n\u001b[0;32m     <a href='file:///c%3A/Users/Kun/.virtualenvs/Deep_learning-JeCDGH9C/lib/site-packages/azure/core/pipeline/_base.py?line=71'>72</a>\u001b[0m \u001b[39mexcept\u001b[39;00m \u001b[39mException\u001b[39;00m:  \u001b[39m# pylint: disable=broad-except\u001b[39;00m\n\u001b[0;32m     <a href='file:///c%3A/Users/Kun/.virtualenvs/Deep_learning-JeCDGH9C/lib/site-packages/azure/core/pipeline/_base.py?line=72'>73</a>\u001b[0m     \u001b[39mif\u001b[39;00m \u001b[39mnot\u001b[39;00m _await_result(\u001b[39mself\u001b[39m\u001b[39m.\u001b[39m_policy\u001b[39m.\u001b[39mon_exception, request):\n",
      "File \u001b[1;32mc:\\Users\\Kun\\.virtualenvs\\Deep_learning-JeCDGH9C\\lib\\site-packages\\azure\\core\\pipeline\\_base.py:71\u001b[0m, in \u001b[0;36m_SansIOHTTPPolicyRunner.send\u001b[1;34m(self, request)\u001b[0m\n\u001b[0;32m     <a href='file:///c%3A/Users/Kun/.virtualenvs/Deep_learning-JeCDGH9C/lib/site-packages/azure/core/pipeline/_base.py?line=68'>69</a>\u001b[0m _await_result(\u001b[39mself\u001b[39m\u001b[39m.\u001b[39m_policy\u001b[39m.\u001b[39mon_request, request)\n\u001b[0;32m     <a href='file:///c%3A/Users/Kun/.virtualenvs/Deep_learning-JeCDGH9C/lib/site-packages/azure/core/pipeline/_base.py?line=69'>70</a>\u001b[0m \u001b[39mtry\u001b[39;00m:\n\u001b[1;32m---> <a href='file:///c%3A/Users/Kun/.virtualenvs/Deep_learning-JeCDGH9C/lib/site-packages/azure/core/pipeline/_base.py?line=70'>71</a>\u001b[0m     response \u001b[39m=\u001b[39m \u001b[39mself\u001b[39;49m\u001b[39m.\u001b[39;49mnext\u001b[39m.\u001b[39;49msend(request)\n\u001b[0;32m     <a href='file:///c%3A/Users/Kun/.virtualenvs/Deep_learning-JeCDGH9C/lib/site-packages/azure/core/pipeline/_base.py?line=71'>72</a>\u001b[0m \u001b[39mexcept\u001b[39;00m \u001b[39mException\u001b[39;00m:  \u001b[39m# pylint: disable=broad-except\u001b[39;00m\n\u001b[0;32m     <a href='file:///c%3A/Users/Kun/.virtualenvs/Deep_learning-JeCDGH9C/lib/site-packages/azure/core/pipeline/_base.py?line=72'>73</a>\u001b[0m     \u001b[39mif\u001b[39;00m \u001b[39mnot\u001b[39;00m _await_result(\u001b[39mself\u001b[39m\u001b[39m.\u001b[39m_policy\u001b[39m.\u001b[39mon_exception, request):\n",
      "    \u001b[1;31m[... skipping similar frames: _SansIOHTTPPolicyRunner.send at line 71 (2 times)]\u001b[0m\n",
      "File \u001b[1;32mc:\\Users\\Kun\\.virtualenvs\\Deep_learning-JeCDGH9C\\lib\\site-packages\\azure\\core\\pipeline\\_base.py:71\u001b[0m, in \u001b[0;36m_SansIOHTTPPolicyRunner.send\u001b[1;34m(self, request)\u001b[0m\n\u001b[0;32m     <a href='file:///c%3A/Users/Kun/.virtualenvs/Deep_learning-JeCDGH9C/lib/site-packages/azure/core/pipeline/_base.py?line=68'>69</a>\u001b[0m _await_result(\u001b[39mself\u001b[39m\u001b[39m.\u001b[39m_policy\u001b[39m.\u001b[39mon_request, request)\n\u001b[0;32m     <a href='file:///c%3A/Users/Kun/.virtualenvs/Deep_learning-JeCDGH9C/lib/site-packages/azure/core/pipeline/_base.py?line=69'>70</a>\u001b[0m \u001b[39mtry\u001b[39;00m:\n\u001b[1;32m---> <a href='file:///c%3A/Users/Kun/.virtualenvs/Deep_learning-JeCDGH9C/lib/site-packages/azure/core/pipeline/_base.py?line=70'>71</a>\u001b[0m     response \u001b[39m=\u001b[39m \u001b[39mself\u001b[39;49m\u001b[39m.\u001b[39;49mnext\u001b[39m.\u001b[39;49msend(request)\n\u001b[0;32m     <a href='file:///c%3A/Users/Kun/.virtualenvs/Deep_learning-JeCDGH9C/lib/site-packages/azure/core/pipeline/_base.py?line=71'>72</a>\u001b[0m \u001b[39mexcept\u001b[39;00m \u001b[39mException\u001b[39;00m:  \u001b[39m# pylint: disable=broad-except\u001b[39;00m\n\u001b[0;32m     <a href='file:///c%3A/Users/Kun/.virtualenvs/Deep_learning-JeCDGH9C/lib/site-packages/azure/core/pipeline/_base.py?line=72'>73</a>\u001b[0m     \u001b[39mif\u001b[39;00m \u001b[39mnot\u001b[39;00m _await_result(\u001b[39mself\u001b[39m\u001b[39m.\u001b[39m_policy\u001b[39m.\u001b[39mon_exception, request):\n",
      "File \u001b[1;32mc:\\Users\\Kun\\.virtualenvs\\Deep_learning-JeCDGH9C\\lib\\site-packages\\azure\\core\\pipeline\\policies\\_redirect.py:158\u001b[0m, in \u001b[0;36mRedirectPolicy.send\u001b[1;34m(self, request)\u001b[0m\n\u001b[0;32m    <a href='file:///c%3A/Users/Kun/.virtualenvs/Deep_learning-JeCDGH9C/lib/site-packages/azure/core/pipeline/policies/_redirect.py?line=155'>156</a>\u001b[0m redirect_settings \u001b[39m=\u001b[39m \u001b[39mself\u001b[39m\u001b[39m.\u001b[39mconfigure_redirects(request\u001b[39m.\u001b[39mcontext\u001b[39m.\u001b[39moptions)\n\u001b[0;32m    <a href='file:///c%3A/Users/Kun/.virtualenvs/Deep_learning-JeCDGH9C/lib/site-packages/azure/core/pipeline/policies/_redirect.py?line=156'>157</a>\u001b[0m \u001b[39mwhile\u001b[39;00m retryable:\n\u001b[1;32m--> <a href='file:///c%3A/Users/Kun/.virtualenvs/Deep_learning-JeCDGH9C/lib/site-packages/azure/core/pipeline/policies/_redirect.py?line=157'>158</a>\u001b[0m     response \u001b[39m=\u001b[39m \u001b[39mself\u001b[39;49m\u001b[39m.\u001b[39;49mnext\u001b[39m.\u001b[39;49msend(request)\n\u001b[0;32m    <a href='file:///c%3A/Users/Kun/.virtualenvs/Deep_learning-JeCDGH9C/lib/site-packages/azure/core/pipeline/policies/_redirect.py?line=158'>159</a>\u001b[0m     redirect_location \u001b[39m=\u001b[39m \u001b[39mself\u001b[39m\u001b[39m.\u001b[39mget_redirect_location(response)\n\u001b[0;32m    <a href='file:///c%3A/Users/Kun/.virtualenvs/Deep_learning-JeCDGH9C/lib/site-packages/azure/core/pipeline/policies/_redirect.py?line=159'>160</a>\u001b[0m     \u001b[39mif\u001b[39;00m redirect_location \u001b[39mand\u001b[39;00m redirect_settings[\u001b[39m'\u001b[39m\u001b[39mallow\u001b[39m\u001b[39m'\u001b[39m]:\n",
      "File \u001b[1;32mc:\\Users\\Kun\\.virtualenvs\\Deep_learning-JeCDGH9C\\lib\\site-packages\\azure\\core\\pipeline\\policies\\_retry.py:467\u001b[0m, in \u001b[0;36mRetryPolicy.send\u001b[1;34m(self, request)\u001b[0m\n\u001b[0;32m    <a href='file:///c%3A/Users/Kun/.virtualenvs/Deep_learning-JeCDGH9C/lib/site-packages/azure/core/pipeline/policies/_retry.py?line=464'>465</a>\u001b[0m                 is_response_error \u001b[39m=\u001b[39m \u001b[39mTrue\u001b[39;00m\n\u001b[0;32m    <a href='file:///c%3A/Users/Kun/.virtualenvs/Deep_learning-JeCDGH9C/lib/site-packages/azure/core/pipeline/policies/_retry.py?line=465'>466</a>\u001b[0m             \u001b[39mcontinue\u001b[39;00m\n\u001b[1;32m--> <a href='file:///c%3A/Users/Kun/.virtualenvs/Deep_learning-JeCDGH9C/lib/site-packages/azure/core/pipeline/policies/_retry.py?line=466'>467</a>\u001b[0m     \u001b[39mraise\u001b[39;00m err\n\u001b[0;32m    <a href='file:///c%3A/Users/Kun/.virtualenvs/Deep_learning-JeCDGH9C/lib/site-packages/azure/core/pipeline/policies/_retry.py?line=467'>468</a>\u001b[0m \u001b[39mfinally\u001b[39;00m:\n\u001b[0;32m    <a href='file:///c%3A/Users/Kun/.virtualenvs/Deep_learning-JeCDGH9C/lib/site-packages/azure/core/pipeline/policies/_retry.py?line=468'>469</a>\u001b[0m     end_time \u001b[39m=\u001b[39m time\u001b[39m.\u001b[39mtime()\n",
      "File \u001b[1;32mc:\\Users\\Kun\\.virtualenvs\\Deep_learning-JeCDGH9C\\lib\\site-packages\\azure\\core\\pipeline\\policies\\_retry.py:445\u001b[0m, in \u001b[0;36mRetryPolicy.send\u001b[1;34m(self, request)\u001b[0m\n\u001b[0;32m    <a href='file:///c%3A/Users/Kun/.virtualenvs/Deep_learning-JeCDGH9C/lib/site-packages/azure/core/pipeline/policies/_retry.py?line=442'>443</a>\u001b[0m start_time \u001b[39m=\u001b[39m time\u001b[39m.\u001b[39mtime()\n\u001b[0;32m    <a href='file:///c%3A/Users/Kun/.virtualenvs/Deep_learning-JeCDGH9C/lib/site-packages/azure/core/pipeline/policies/_retry.py?line=443'>444</a>\u001b[0m \u001b[39mself\u001b[39m\u001b[39m.\u001b[39m_configure_timeout(request, absolute_timeout, is_response_error)\n\u001b[1;32m--> <a href='file:///c%3A/Users/Kun/.virtualenvs/Deep_learning-JeCDGH9C/lib/site-packages/azure/core/pipeline/policies/_retry.py?line=444'>445</a>\u001b[0m response \u001b[39m=\u001b[39m \u001b[39mself\u001b[39;49m\u001b[39m.\u001b[39;49mnext\u001b[39m.\u001b[39;49msend(request)\n\u001b[0;32m    <a href='file:///c%3A/Users/Kun/.virtualenvs/Deep_learning-JeCDGH9C/lib/site-packages/azure/core/pipeline/policies/_retry.py?line=445'>446</a>\u001b[0m \u001b[39mif\u001b[39;00m \u001b[39mself\u001b[39m\u001b[39m.\u001b[39mis_retry(retry_settings, response):\n\u001b[0;32m    <a href='file:///c%3A/Users/Kun/.virtualenvs/Deep_learning-JeCDGH9C/lib/site-packages/azure/core/pipeline/policies/_retry.py?line=446'>447</a>\u001b[0m     retry_active \u001b[39m=\u001b[39m \u001b[39mself\u001b[39m\u001b[39m.\u001b[39mincrement(retry_settings, response\u001b[39m=\u001b[39mresponse)\n",
      "File \u001b[1;32mc:\\Users\\Kun\\.virtualenvs\\Deep_learning-JeCDGH9C\\lib\\site-packages\\azure\\core\\pipeline\\policies\\_authentication.py:119\u001b[0m, in \u001b[0;36mBearerTokenCredentialPolicy.send\u001b[1;34m(self, request)\u001b[0m\n\u001b[0;32m    <a href='file:///c%3A/Users/Kun/.virtualenvs/Deep_learning-JeCDGH9C/lib/site-packages/azure/core/pipeline/policies/_authentication.py?line=116'>117</a>\u001b[0m \u001b[39mself\u001b[39m\u001b[39m.\u001b[39mon_request(request)\n\u001b[0;32m    <a href='file:///c%3A/Users/Kun/.virtualenvs/Deep_learning-JeCDGH9C/lib/site-packages/azure/core/pipeline/policies/_authentication.py?line=117'>118</a>\u001b[0m \u001b[39mtry\u001b[39;00m:\n\u001b[1;32m--> <a href='file:///c%3A/Users/Kun/.virtualenvs/Deep_learning-JeCDGH9C/lib/site-packages/azure/core/pipeline/policies/_authentication.py?line=118'>119</a>\u001b[0m     response \u001b[39m=\u001b[39m \u001b[39mself\u001b[39;49m\u001b[39m.\u001b[39;49mnext\u001b[39m.\u001b[39;49msend(request)\n\u001b[0;32m    <a href='file:///c%3A/Users/Kun/.virtualenvs/Deep_learning-JeCDGH9C/lib/site-packages/azure/core/pipeline/policies/_authentication.py?line=119'>120</a>\u001b[0m     \u001b[39mself\u001b[39m\u001b[39m.\u001b[39mon_response(request, response)\n\u001b[0;32m    <a href='file:///c%3A/Users/Kun/.virtualenvs/Deep_learning-JeCDGH9C/lib/site-packages/azure/core/pipeline/policies/_authentication.py?line=120'>121</a>\u001b[0m \u001b[39mexcept\u001b[39;00m \u001b[39mException\u001b[39;00m:  \u001b[39m# pylint:disable=broad-except\u001b[39;00m\n",
      "File \u001b[1;32mc:\\Users\\Kun\\.virtualenvs\\Deep_learning-JeCDGH9C\\lib\\site-packages\\azure\\core\\pipeline\\_base.py:71\u001b[0m, in \u001b[0;36m_SansIOHTTPPolicyRunner.send\u001b[1;34m(self, request)\u001b[0m\n\u001b[0;32m     <a href='file:///c%3A/Users/Kun/.virtualenvs/Deep_learning-JeCDGH9C/lib/site-packages/azure/core/pipeline/_base.py?line=68'>69</a>\u001b[0m _await_result(\u001b[39mself\u001b[39m\u001b[39m.\u001b[39m_policy\u001b[39m.\u001b[39mon_request, request)\n\u001b[0;32m     <a href='file:///c%3A/Users/Kun/.virtualenvs/Deep_learning-JeCDGH9C/lib/site-packages/azure/core/pipeline/_base.py?line=69'>70</a>\u001b[0m \u001b[39mtry\u001b[39;00m:\n\u001b[1;32m---> <a href='file:///c%3A/Users/Kun/.virtualenvs/Deep_learning-JeCDGH9C/lib/site-packages/azure/core/pipeline/_base.py?line=70'>71</a>\u001b[0m     response \u001b[39m=\u001b[39m \u001b[39mself\u001b[39;49m\u001b[39m.\u001b[39;49mnext\u001b[39m.\u001b[39;49msend(request)\n\u001b[0;32m     <a href='file:///c%3A/Users/Kun/.virtualenvs/Deep_learning-JeCDGH9C/lib/site-packages/azure/core/pipeline/_base.py?line=71'>72</a>\u001b[0m \u001b[39mexcept\u001b[39;00m \u001b[39mException\u001b[39;00m:  \u001b[39m# pylint: disable=broad-except\u001b[39;00m\n\u001b[0;32m     <a href='file:///c%3A/Users/Kun/.virtualenvs/Deep_learning-JeCDGH9C/lib/site-packages/azure/core/pipeline/_base.py?line=72'>73</a>\u001b[0m     \u001b[39mif\u001b[39;00m \u001b[39mnot\u001b[39;00m _await_result(\u001b[39mself\u001b[39m\u001b[39m.\u001b[39m_policy\u001b[39m.\u001b[39mon_exception, request):\n",
      "File \u001b[1;32mc:\\Users\\Kun\\.virtualenvs\\Deep_learning-JeCDGH9C\\lib\\site-packages\\azure\\core\\pipeline\\_base.py:71\u001b[0m, in \u001b[0;36m_SansIOHTTPPolicyRunner.send\u001b[1;34m(self, request)\u001b[0m\n\u001b[0;32m     <a href='file:///c%3A/Users/Kun/.virtualenvs/Deep_learning-JeCDGH9C/lib/site-packages/azure/core/pipeline/_base.py?line=68'>69</a>\u001b[0m _await_result(\u001b[39mself\u001b[39m\u001b[39m.\u001b[39m_policy\u001b[39m.\u001b[39mon_request, request)\n\u001b[0;32m     <a href='file:///c%3A/Users/Kun/.virtualenvs/Deep_learning-JeCDGH9C/lib/site-packages/azure/core/pipeline/_base.py?line=69'>70</a>\u001b[0m \u001b[39mtry\u001b[39;00m:\n\u001b[1;32m---> <a href='file:///c%3A/Users/Kun/.virtualenvs/Deep_learning-JeCDGH9C/lib/site-packages/azure/core/pipeline/_base.py?line=70'>71</a>\u001b[0m     response \u001b[39m=\u001b[39m \u001b[39mself\u001b[39;49m\u001b[39m.\u001b[39;49mnext\u001b[39m.\u001b[39;49msend(request)\n\u001b[0;32m     <a href='file:///c%3A/Users/Kun/.virtualenvs/Deep_learning-JeCDGH9C/lib/site-packages/azure/core/pipeline/_base.py?line=71'>72</a>\u001b[0m \u001b[39mexcept\u001b[39;00m \u001b[39mException\u001b[39;00m:  \u001b[39m# pylint: disable=broad-except\u001b[39;00m\n\u001b[0;32m     <a href='file:///c%3A/Users/Kun/.virtualenvs/Deep_learning-JeCDGH9C/lib/site-packages/azure/core/pipeline/_base.py?line=72'>73</a>\u001b[0m     \u001b[39mif\u001b[39;00m \u001b[39mnot\u001b[39;00m _await_result(\u001b[39mself\u001b[39m\u001b[39m.\u001b[39m_policy\u001b[39m.\u001b[39mon_exception, request):\n",
      "    \u001b[1;31m[... skipping similar frames: _SansIOHTTPPolicyRunner.send at line 71 (1 times)]\u001b[0m\n",
      "File \u001b[1;32mc:\\Users\\Kun\\.virtualenvs\\Deep_learning-JeCDGH9C\\lib\\site-packages\\azure\\core\\pipeline\\_base.py:71\u001b[0m, in \u001b[0;36m_SansIOHTTPPolicyRunner.send\u001b[1;34m(self, request)\u001b[0m\n\u001b[0;32m     <a href='file:///c%3A/Users/Kun/.virtualenvs/Deep_learning-JeCDGH9C/lib/site-packages/azure/core/pipeline/_base.py?line=68'>69</a>\u001b[0m _await_result(\u001b[39mself\u001b[39m\u001b[39m.\u001b[39m_policy\u001b[39m.\u001b[39mon_request, request)\n\u001b[0;32m     <a href='file:///c%3A/Users/Kun/.virtualenvs/Deep_learning-JeCDGH9C/lib/site-packages/azure/core/pipeline/_base.py?line=69'>70</a>\u001b[0m \u001b[39mtry\u001b[39;00m:\n\u001b[1;32m---> <a href='file:///c%3A/Users/Kun/.virtualenvs/Deep_learning-JeCDGH9C/lib/site-packages/azure/core/pipeline/_base.py?line=70'>71</a>\u001b[0m     response \u001b[39m=\u001b[39m \u001b[39mself\u001b[39;49m\u001b[39m.\u001b[39;49mnext\u001b[39m.\u001b[39;49msend(request)\n\u001b[0;32m     <a href='file:///c%3A/Users/Kun/.virtualenvs/Deep_learning-JeCDGH9C/lib/site-packages/azure/core/pipeline/_base.py?line=71'>72</a>\u001b[0m \u001b[39mexcept\u001b[39;00m \u001b[39mException\u001b[39;00m:  \u001b[39m# pylint: disable=broad-except\u001b[39;00m\n\u001b[0;32m     <a href='file:///c%3A/Users/Kun/.virtualenvs/Deep_learning-JeCDGH9C/lib/site-packages/azure/core/pipeline/_base.py?line=72'>73</a>\u001b[0m     \u001b[39mif\u001b[39;00m \u001b[39mnot\u001b[39;00m _await_result(\u001b[39mself\u001b[39m\u001b[39m.\u001b[39m_policy\u001b[39m.\u001b[39mon_exception, request):\n",
      "File \u001b[1;32mc:\\Users\\Kun\\.virtualenvs\\Deep_learning-JeCDGH9C\\lib\\site-packages\\azure\\core\\pipeline\\_base.py:103\u001b[0m, in \u001b[0;36m_TransportRunner.send\u001b[1;34m(self, request)\u001b[0m\n\u001b[0;32m     <a href='file:///c%3A/Users/Kun/.virtualenvs/Deep_learning-JeCDGH9C/lib/site-packages/azure/core/pipeline/_base.py?line=92'>93</a>\u001b[0m \u001b[39mdef\u001b[39;00m \u001b[39msend\u001b[39m(\u001b[39mself\u001b[39m, request):\n\u001b[0;32m     <a href='file:///c%3A/Users/Kun/.virtualenvs/Deep_learning-JeCDGH9C/lib/site-packages/azure/core/pipeline/_base.py?line=93'>94</a>\u001b[0m     \u001b[39m\"\"\"HTTP transport send method.\u001b[39;00m\n\u001b[0;32m     <a href='file:///c%3A/Users/Kun/.virtualenvs/Deep_learning-JeCDGH9C/lib/site-packages/azure/core/pipeline/_base.py?line=94'>95</a>\u001b[0m \n\u001b[0;32m     <a href='file:///c%3A/Users/Kun/.virtualenvs/Deep_learning-JeCDGH9C/lib/site-packages/azure/core/pipeline/_base.py?line=95'>96</a>\u001b[0m \u001b[39m    :param request: The PipelineRequest object.\u001b[39;00m\n\u001b[1;32m   (...)\u001b[0m\n\u001b[0;32m     <a href='file:///c%3A/Users/Kun/.virtualenvs/Deep_learning-JeCDGH9C/lib/site-packages/azure/core/pipeline/_base.py?line=98'>99</a>\u001b[0m \u001b[39m    :rtype: ~azure.core.pipeline.PipelineResponse\u001b[39;00m\n\u001b[0;32m    <a href='file:///c%3A/Users/Kun/.virtualenvs/Deep_learning-JeCDGH9C/lib/site-packages/azure/core/pipeline/_base.py?line=99'>100</a>\u001b[0m \u001b[39m    \"\"\"\u001b[39;00m\n\u001b[0;32m    <a href='file:///c%3A/Users/Kun/.virtualenvs/Deep_learning-JeCDGH9C/lib/site-packages/azure/core/pipeline/_base.py?line=100'>101</a>\u001b[0m     \u001b[39mreturn\u001b[39;00m PipelineResponse(\n\u001b[0;32m    <a href='file:///c%3A/Users/Kun/.virtualenvs/Deep_learning-JeCDGH9C/lib/site-packages/azure/core/pipeline/_base.py?line=101'>102</a>\u001b[0m         request\u001b[39m.\u001b[39mhttp_request,\n\u001b[1;32m--> <a href='file:///c%3A/Users/Kun/.virtualenvs/Deep_learning-JeCDGH9C/lib/site-packages/azure/core/pipeline/_base.py?line=102'>103</a>\u001b[0m         \u001b[39mself\u001b[39m\u001b[39m.\u001b[39m_sender\u001b[39m.\u001b[39msend(request\u001b[39m.\u001b[39mhttp_request, \u001b[39m*\u001b[39m\u001b[39m*\u001b[39mrequest\u001b[39m.\u001b[39mcontext\u001b[39m.\u001b[39moptions),\n\u001b[0;32m    <a href='file:///c%3A/Users/Kun/.virtualenvs/Deep_learning-JeCDGH9C/lib/site-packages/azure/core/pipeline/_base.py?line=103'>104</a>\u001b[0m         context\u001b[39m=\u001b[39mrequest\u001b[39m.\u001b[39mcontext,\n\u001b[0;32m    <a href='file:///c%3A/Users/Kun/.virtualenvs/Deep_learning-JeCDGH9C/lib/site-packages/azure/core/pipeline/_base.py?line=104'>105</a>\u001b[0m     )\n",
      "File \u001b[1;32mc:\\Users\\Kun\\.virtualenvs\\Deep_learning-JeCDGH9C\\lib\\site-packages\\azure\\core\\pipeline\\transport\\_requests_basic.py:298\u001b[0m, in \u001b[0;36mRequestsTransport.send\u001b[1;34m(self, request, **kwargs)\u001b[0m\n\u001b[0;32m    <a href='file:///c%3A/Users/Kun/.virtualenvs/Deep_learning-JeCDGH9C/lib/site-packages/azure/core/pipeline/transport/_requests_basic.py?line=294'>295</a>\u001b[0m     error \u001b[39m=\u001b[39m ServiceRequestError(err, error\u001b[39m=\u001b[39merr)\n\u001b[0;32m    <a href='file:///c%3A/Users/Kun/.virtualenvs/Deep_learning-JeCDGH9C/lib/site-packages/azure/core/pipeline/transport/_requests_basic.py?line=296'>297</a>\u001b[0m \u001b[39mif\u001b[39;00m error:\n\u001b[1;32m--> <a href='file:///c%3A/Users/Kun/.virtualenvs/Deep_learning-JeCDGH9C/lib/site-packages/azure/core/pipeline/transport/_requests_basic.py?line=297'>298</a>\u001b[0m     \u001b[39mraise\u001b[39;00m error\n\u001b[0;32m    <a href='file:///c%3A/Users/Kun/.virtualenvs/Deep_learning-JeCDGH9C/lib/site-packages/azure/core/pipeline/transport/_requests_basic.py?line=298'>299</a>\u001b[0m \u001b[39mreturn\u001b[39;00m RequestsTransportResponse(request, response, \u001b[39mself\u001b[39m\u001b[39m.\u001b[39mconnection_config\u001b[39m.\u001b[39mdata_block_size)\n",
      "\u001b[1;31mServiceRequestError\u001b[0m: <urllib3.connection.HTTPSConnection object at 0x000001FDA21AC3A0>: Failed to establish a new connection: [Errno 11001] getaddrinfo failed"
     ]
    }
   ],
   "source": [
    "from affinda import AffindaAPI, TokenCredential\n",
    "\n",
    "token = \"REPLACE_TOKEN\"\n",
    "\n",
    "credential = TokenCredential(token=token)\n",
    "client = AffindaAPI(credential=credential)\n",
    "all_resumes = client.get_all_resumes()\n",
    "\n",
    "print(all_resumes.as_dict())"
   ]
  }
 ],
 "metadata": {
  "interpreter": {
   "hash": "b264e75a522f2a70b5475f8be1585a42fc6bf0efb742e10f55b8ed00d7592aba"
  },
  "kernelspec": {
   "display_name": "Python 3.9.6 ('Deep_learning-JeCDGH9C')",
   "language": "python",
   "name": "python3"
  },
  "language_info": {
   "codemirror_mode": {
    "name": "ipython",
    "version": 3
   },
   "file_extension": ".py",
   "mimetype": "text/x-python",
   "name": "python",
   "nbconvert_exporter": "python",
   "pygments_lexer": "ipython3",
   "version": "3.9.6"
  },
  "orig_nbformat": 4
 },
 "nbformat": 4,
 "nbformat_minor": 2
}
