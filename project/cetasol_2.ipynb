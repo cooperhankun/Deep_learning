{
 "cells": [
  {
   "cell_type": "code",
   "execution_count": 2,
   "metadata": {},
   "outputs": [],
   "source": [
    "import pandas as pd\n",
    "import numpy as np\n",
    "import matplotlib.pyplot as plt\n",
    "import seaborn as sns\n",
    "from sklearn.preprocessing import MinMaxScaler\n",
    "from sklearn.model_selection import train_test_split\n",
    "from code import interact\n",
    "from sklearn.linear_model import LinearRegression\n",
    "from sklearn.linear_model import SGDRegressor\n",
    "from sklearn.metrics import mean_absolute_error, mean_squared_error\n"
   ]
  },
  {
   "cell_type": "markdown",
   "metadata": {},
   "source": [
    "## Part 2 : Time series with the accumulated fuel rate"
   ]
  },
  {
   "cell_type": "code",
   "execution_count": 3,
   "metadata": {},
   "outputs": [
    {
     "name": "stderr",
     "output_type": "stream",
     "text": [
      "C:\\Users\\Kun\\AppData\\Local\\Temp\\ipykernel_980\\1349322939.py:1: DtypeWarning: Columns (40) have mixed types. Specify dtype option on import or set low_memory=False.\n",
      "  df = pd.read_csv(r'C:\\Users\\Kun\\Downloads\\month_7.csv')\n"
     ]
    },
    {
     "data": {
      "text/html": [
       "<div>\n",
       "<style scoped>\n",
       "    .dataframe tbody tr th:only-of-type {\n",
       "        vertical-align: middle;\n",
       "    }\n",
       "\n",
       "    .dataframe tbody tr th {\n",
       "        vertical-align: top;\n",
       "    }\n",
       "\n",
       "    .dataframe thead th {\n",
       "        text-align: right;\n",
       "    }\n",
       "</style>\n",
       "<table border=\"1\" class=\"dataframe\">\n",
       "  <thead>\n",
       "    <tr style=\"text-align: right;\">\n",
       "      <th></th>\n",
       "      <th>Unnamed: 0</th>\n",
       "      <th>timestamp</th>\n",
       "      <th>engineFuelRate</th>\n",
       "      <th>engineSpeed</th>\n",
       "      <th>latitude</th>\n",
       "      <th>longitude</th>\n",
       "      <th>windDirectionApparent</th>\n",
       "      <th>windDirectionTrue</th>\n",
       "      <th>windSpeedApparent</th>\n",
       "      <th>windSpeedOverGround</th>\n",
       "      <th>...</th>\n",
       "      <th>legUUID</th>\n",
       "      <th>on_route</th>\n",
       "      <th>mainRouteId</th>\n",
       "      <th>distanceToNextDock</th>\n",
       "      <th>distanceToPreviousDock</th>\n",
       "      <th>segmentId</th>\n",
       "      <th>segmentUUID</th>\n",
       "      <th>accumFuelLeg</th>\n",
       "      <th>accumDistLeg</th>\n",
       "      <th>accumTimeLeg</th>\n",
       "    </tr>\n",
       "  </thead>\n",
       "  <tbody>\n",
       "    <tr>\n",
       "      <th>0</th>\n",
       "      <td>8017292</td>\n",
       "      <td>2022-07-01 00:00:00.000</td>\n",
       "      <td>1.0</td>\n",
       "      <td>0.0</td>\n",
       "      <td>59.331653</td>\n",
       "      <td>18.079153</td>\n",
       "      <td>270.0923</td>\n",
       "      <td>130.2963</td>\n",
       "      <td>1.440</td>\n",
       "      <td>1.49</td>\n",
       "      <td>...</td>\n",
       "      <td>57c14d10-792c-4526-90ab-f2d29fa36e25</td>\n",
       "      <td>NaN</td>\n",
       "      <td>119</td>\n",
       "      <td>NaN</td>\n",
       "      <td>NaN</td>\n",
       "      <td>29110</td>\n",
       "      <td>c07a858d-4a80-4985-92ca-f49277915740</td>\n",
       "      <td>20.647542</td>\n",
       "      <td>3948.035487</td>\n",
       "      <td>71163.0</td>\n",
       "    </tr>\n",
       "    <tr>\n",
       "      <th>1</th>\n",
       "      <td>8017293</td>\n",
       "      <td>2022-07-01 00:00:00.300</td>\n",
       "      <td>1.0</td>\n",
       "      <td>0.0</td>\n",
       "      <td>59.331653</td>\n",
       "      <td>18.079153</td>\n",
       "      <td>270.0923</td>\n",
       "      <td>125.6955</td>\n",
       "      <td>1.590</td>\n",
       "      <td>1.54</td>\n",
       "      <td>...</td>\n",
       "      <td>57c14d10-792c-4526-90ab-f2d29fa36e25</td>\n",
       "      <td>NaN</td>\n",
       "      <td>119</td>\n",
       "      <td>NaN</td>\n",
       "      <td>NaN</td>\n",
       "      <td>29110</td>\n",
       "      <td>c07a858d-4a80-4985-92ca-f49277915740</td>\n",
       "      <td>20.647625</td>\n",
       "      <td>3948.037413</td>\n",
       "      <td>71163.3</td>\n",
       "    </tr>\n",
       "    <tr>\n",
       "      <th>2</th>\n",
       "      <td>8017294</td>\n",
       "      <td>2022-07-01 00:00:00.600</td>\n",
       "      <td>1.0</td>\n",
       "      <td>0.0</td>\n",
       "      <td>59.331653</td>\n",
       "      <td>18.079153</td>\n",
       "      <td>270.0923</td>\n",
       "      <td>127.4946</td>\n",
       "      <td>1.590</td>\n",
       "      <td>1.49</td>\n",
       "      <td>...</td>\n",
       "      <td>57c14d10-792c-4526-90ab-f2d29fa36e25</td>\n",
       "      <td>NaN</td>\n",
       "      <td>119</td>\n",
       "      <td>NaN</td>\n",
       "      <td>NaN</td>\n",
       "      <td>29110</td>\n",
       "      <td>c07a858d-4a80-4985-92ca-f49277915740</td>\n",
       "      <td>20.647708</td>\n",
       "      <td>3948.039432</td>\n",
       "      <td>71163.6</td>\n",
       "    </tr>\n",
       "    <tr>\n",
       "      <th>3</th>\n",
       "      <td>8017295</td>\n",
       "      <td>2022-07-01 00:00:00.900</td>\n",
       "      <td>1.0</td>\n",
       "      <td>0.0</td>\n",
       "      <td>59.331653</td>\n",
       "      <td>18.079153</td>\n",
       "      <td>270.0923</td>\n",
       "      <td>127.4946</td>\n",
       "      <td>1.590</td>\n",
       "      <td>1.49</td>\n",
       "      <td>...</td>\n",
       "      <td>57c14d10-792c-4526-90ab-f2d29fa36e25</td>\n",
       "      <td>NaN</td>\n",
       "      <td>119</td>\n",
       "      <td>NaN</td>\n",
       "      <td>NaN</td>\n",
       "      <td>29110</td>\n",
       "      <td>c07a858d-4a80-4985-92ca-f49277915740</td>\n",
       "      <td>20.647792</td>\n",
       "      <td>3948.041884</td>\n",
       "      <td>71163.9</td>\n",
       "    </tr>\n",
       "    <tr>\n",
       "      <th>4</th>\n",
       "      <td>8017296</td>\n",
       "      <td>2022-07-01 00:00:01.200</td>\n",
       "      <td>1.0</td>\n",
       "      <td>0.0</td>\n",
       "      <td>59.331653</td>\n",
       "      <td>18.079152</td>\n",
       "      <td>271.8914</td>\n",
       "      <td>127.4946</td>\n",
       "      <td>1.515</td>\n",
       "      <td>1.49</td>\n",
       "      <td>...</td>\n",
       "      <td>57c14d10-792c-4526-90ab-f2d29fa36e25</td>\n",
       "      <td>NaN</td>\n",
       "      <td>119</td>\n",
       "      <td>NaN</td>\n",
       "      <td>NaN</td>\n",
       "      <td>29110</td>\n",
       "      <td>c07a858d-4a80-4985-92ca-f49277915740</td>\n",
       "      <td>20.647875</td>\n",
       "      <td>3948.045117</td>\n",
       "      <td>71164.2</td>\n",
       "    </tr>\n",
       "  </tbody>\n",
       "</table>\n",
       "<p>5 rows × 49 columns</p>\n",
       "</div>"
      ],
      "text/plain": [
       "   Unnamed: 0                timestamp  engineFuelRate  engineSpeed  \\\n",
       "0     8017292  2022-07-01 00:00:00.000             1.0          0.0   \n",
       "1     8017293  2022-07-01 00:00:00.300             1.0          0.0   \n",
       "2     8017294  2022-07-01 00:00:00.600             1.0          0.0   \n",
       "3     8017295  2022-07-01 00:00:00.900             1.0          0.0   \n",
       "4     8017296  2022-07-01 00:00:01.200             1.0          0.0   \n",
       "\n",
       "    latitude  longitude  windDirectionApparent  windDirectionTrue  \\\n",
       "0  59.331653  18.079153               270.0923           130.2963   \n",
       "1  59.331653  18.079153               270.0923           125.6955   \n",
       "2  59.331653  18.079153               270.0923           127.4946   \n",
       "3  59.331653  18.079153               270.0923           127.4946   \n",
       "4  59.331653  18.079152               271.8914           127.4946   \n",
       "\n",
       "   windSpeedApparent  windSpeedOverGround  ...  \\\n",
       "0              1.440                 1.49  ...   \n",
       "1              1.590                 1.54  ...   \n",
       "2              1.590                 1.49  ...   \n",
       "3              1.590                 1.49  ...   \n",
       "4              1.515                 1.49  ...   \n",
       "\n",
       "                                legUUID  on_route  mainRouteId  \\\n",
       "0  57c14d10-792c-4526-90ab-f2d29fa36e25       NaN          119   \n",
       "1  57c14d10-792c-4526-90ab-f2d29fa36e25       NaN          119   \n",
       "2  57c14d10-792c-4526-90ab-f2d29fa36e25       NaN          119   \n",
       "3  57c14d10-792c-4526-90ab-f2d29fa36e25       NaN          119   \n",
       "4  57c14d10-792c-4526-90ab-f2d29fa36e25       NaN          119   \n",
       "\n",
       "   distanceToNextDock  distanceToPreviousDock  segmentId  \\\n",
       "0                 NaN                     NaN      29110   \n",
       "1                 NaN                     NaN      29110   \n",
       "2                 NaN                     NaN      29110   \n",
       "3                 NaN                     NaN      29110   \n",
       "4                 NaN                     NaN      29110   \n",
       "\n",
       "                            segmentUUID  accumFuelLeg  accumDistLeg  \\\n",
       "0  c07a858d-4a80-4985-92ca-f49277915740     20.647542   3948.035487   \n",
       "1  c07a858d-4a80-4985-92ca-f49277915740     20.647625   3948.037413   \n",
       "2  c07a858d-4a80-4985-92ca-f49277915740     20.647708   3948.039432   \n",
       "3  c07a858d-4a80-4985-92ca-f49277915740     20.647792   3948.041884   \n",
       "4  c07a858d-4a80-4985-92ca-f49277915740     20.647875   3948.045117   \n",
       "\n",
       "   accumTimeLeg  \n",
       "0       71163.0  \n",
       "1       71163.3  \n",
       "2       71163.6  \n",
       "3       71163.9  \n",
       "4       71164.2  \n",
       "\n",
       "[5 rows x 49 columns]"
      ]
     },
     "execution_count": 3,
     "metadata": {},
     "output_type": "execute_result"
    }
   ],
   "source": [
    "df = pd.read_csv(r'C:\\Users\\Kun\\Downloads\\month_7.csv')\n",
    "df.head()"
   ]
  },
  {
   "cell_type": "code",
   "execution_count": 19,
   "metadata": {},
   "outputs": [
    {
     "data": {
      "text/plain": [
       "(3426523, 49)"
      ]
     },
     "execution_count": 19,
     "metadata": {},
     "output_type": "execute_result"
    }
   ],
   "source": [
    "df = df.loc[df.engineSpeed > 550]\n",
    "df.shape"
   ]
  },
  {
   "cell_type": "code",
   "execution_count": 1,
   "metadata": {},
   "outputs": [
    {
     "ename": "NameError",
     "evalue": "name 'df' is not defined",
     "output_type": "error",
     "traceback": [
      "\u001b[1;31m---------------------------------------------------------------------------\u001b[0m",
      "\u001b[1;31mNameError\u001b[0m                                 Traceback (most recent call last)",
      "\u001b[1;32mc:\\Users\\Kun\\Documents\\GitHub\\Deep_learning\\project\\cetasol_2.ipynb Cell 5\u001b[0m in \u001b[0;36m<cell line: 1>\u001b[1;34m()\u001b[0m\n\u001b[1;32m----> <a href='vscode-notebook-cell:/c%3A/Users/Kun/Documents/GitHub/Deep_learning/project/cetasol_2.ipynb#W4sZmlsZQ%3D%3D?line=0'>1</a>\u001b[0m df[\u001b[39m'\u001b[39m\u001b[39mtimestamp\u001b[39m\u001b[39m'\u001b[39m]\u001b[39m.\u001b[39misnull()\u001b[39m.\u001b[39msum()\n",
      "\u001b[1;31mNameError\u001b[0m: name 'df' is not defined"
     ]
    }
   ],
   "source": [
    "df['timestamp'].isnull().sum()"
   ]
  },
  {
   "cell_type": "code",
   "execution_count": 22,
   "metadata": {},
   "outputs": [
    {
     "name": "stderr",
     "output_type": "stream",
     "text": [
      "C:\\Users\\Kun\\AppData\\Local\\Temp\\ipykernel_980\\1578772043.py:1: SettingWithCopyWarning: \n",
      "A value is trying to be set on a copy of a slice from a DataFrame.\n",
      "Try using .loc[row_indexer,col_indexer] = value instead\n",
      "\n",
      "See the caveats in the documentation: https://pandas.pydata.org/pandas-docs/stable/user_guide/indexing.html#returning-a-view-versus-a-copy\n",
      "  df['timestamp'] = df['timestamp'].replace([':', '-', ' '],'', regex=True)\n"
     ]
    },
    {
     "data": {
      "text/html": [
       "<div>\n",
       "<style scoped>\n",
       "    .dataframe tbody tr th:only-of-type {\n",
       "        vertical-align: middle;\n",
       "    }\n",
       "\n",
       "    .dataframe tbody tr th {\n",
       "        vertical-align: top;\n",
       "    }\n",
       "\n",
       "    .dataframe thead th {\n",
       "        text-align: right;\n",
       "    }\n",
       "</style>\n",
       "<table border=\"1\" class=\"dataframe\">\n",
       "  <thead>\n",
       "    <tr style=\"text-align: right;\">\n",
       "      <th></th>\n",
       "      <th>Unnamed: 0</th>\n",
       "      <th>timestamp</th>\n",
       "      <th>engineFuelRate</th>\n",
       "      <th>engineSpeed</th>\n",
       "      <th>latitude</th>\n",
       "      <th>longitude</th>\n",
       "      <th>windDirectionApparent</th>\n",
       "      <th>windDirectionTrue</th>\n",
       "      <th>windSpeedApparent</th>\n",
       "      <th>windSpeedOverGround</th>\n",
       "      <th>...</th>\n",
       "      <th>legUUID</th>\n",
       "      <th>on_route</th>\n",
       "      <th>mainRouteId</th>\n",
       "      <th>distanceToNextDock</th>\n",
       "      <th>distanceToPreviousDock</th>\n",
       "      <th>segmentId</th>\n",
       "      <th>segmentUUID</th>\n",
       "      <th>accumFuelLeg</th>\n",
       "      <th>accumDistLeg</th>\n",
       "      <th>accumTimeLeg</th>\n",
       "    </tr>\n",
       "  </thead>\n",
       "  <tbody>\n",
       "    <tr>\n",
       "      <th>93943</th>\n",
       "      <td>8111235</td>\n",
       "      <td>2.022070e+13</td>\n",
       "      <td>3.0</td>\n",
       "      <td>752.00</td>\n",
       "      <td>59.331634</td>\n",
       "      <td>18.079097</td>\n",
       "      <td>283.5912</td>\n",
       "      <td>139.5954</td>\n",
       "      <td>6.53</td>\n",
       "      <td>6.68</td>\n",
       "      <td>...</td>\n",
       "      <td>57c14d10-792c-4526-90ab-f2d29fa36e25</td>\n",
       "      <td>NaN</td>\n",
       "      <td>119</td>\n",
       "      <td>NaN</td>\n",
       "      <td>NaN</td>\n",
       "      <td>29110</td>\n",
       "      <td>c07a858d-4a80-4985-92ca-f49277915740</td>\n",
       "      <td>29.327333</td>\n",
       "      <td>5680.895903</td>\n",
       "      <td>99345.9</td>\n",
       "    </tr>\n",
       "    <tr>\n",
       "      <th>93944</th>\n",
       "      <td>8111236</td>\n",
       "      <td>2.022070e+13</td>\n",
       "      <td>3.0</td>\n",
       "      <td>772.75</td>\n",
       "      <td>59.331634</td>\n",
       "      <td>18.079097</td>\n",
       "      <td>281.4426</td>\n",
       "      <td>139.5954</td>\n",
       "      <td>6.66</td>\n",
       "      <td>6.68</td>\n",
       "      <td>...</td>\n",
       "      <td>57c14d10-792c-4526-90ab-f2d29fa36e25</td>\n",
       "      <td>NaN</td>\n",
       "      <td>119</td>\n",
       "      <td>NaN</td>\n",
       "      <td>NaN</td>\n",
       "      <td>29110</td>\n",
       "      <td>c07a858d-4a80-4985-92ca-f49277915740</td>\n",
       "      <td>29.327583</td>\n",
       "      <td>5680.908730</td>\n",
       "      <td>99346.2</td>\n",
       "    </tr>\n",
       "  </tbody>\n",
       "</table>\n",
       "<p>2 rows × 49 columns</p>\n",
       "</div>"
      ],
      "text/plain": [
       "       Unnamed: 0     timestamp  engineFuelRate  engineSpeed   latitude  \\\n",
       "93943     8111235  2.022070e+13             3.0       752.00  59.331634   \n",
       "93944     8111236  2.022070e+13             3.0       772.75  59.331634   \n",
       "\n",
       "       longitude  windDirectionApparent  windDirectionTrue  windSpeedApparent  \\\n",
       "93943  18.079097               283.5912           139.5954               6.53   \n",
       "93944  18.079097               281.4426           139.5954               6.66   \n",
       "\n",
       "       windSpeedOverGround  ...                               legUUID  \\\n",
       "93943                 6.68  ...  57c14d10-792c-4526-90ab-f2d29fa36e25   \n",
       "93944                 6.68  ...  57c14d10-792c-4526-90ab-f2d29fa36e25   \n",
       "\n",
       "       on_route  mainRouteId  distanceToNextDock  distanceToPreviousDock  \\\n",
       "93943       NaN          119                 NaN                     NaN   \n",
       "93944       NaN          119                 NaN                     NaN   \n",
       "\n",
       "       segmentId                           segmentUUID  accumFuelLeg  \\\n",
       "93943      29110  c07a858d-4a80-4985-92ca-f49277915740     29.327333   \n",
       "93944      29110  c07a858d-4a80-4985-92ca-f49277915740     29.327583   \n",
       "\n",
       "       accumDistLeg  accumTimeLeg  \n",
       "93943   5680.895903       99345.9  \n",
       "93944   5680.908730       99346.2  \n",
       "\n",
       "[2 rows x 49 columns]"
      ]
     },
     "execution_count": 22,
     "metadata": {},
     "output_type": "execute_result"
    }
   ],
   "source": [
    "df['timestamp'] = df['timestamp'].replace([':', '-', ' '],'', regex=True)\n",
    "df.head(2)"
   ]
  },
  {
   "cell_type": "code",
   "execution_count": 24,
   "metadata": {},
   "outputs": [
    {
     "name": "stderr",
     "output_type": "stream",
     "text": [
      "C:\\Users\\Kun\\AppData\\Local\\Temp\\ipykernel_980\\3773534979.py:1: SettingWithCopyWarning: \n",
      "A value is trying to be set on a copy of a slice from a DataFrame.\n",
      "Try using .loc[row_indexer,col_indexer] = value instead\n",
      "\n",
      "See the caveats in the documentation: https://pandas.pydata.org/pandas-docs/stable/user_guide/indexing.html#returning-a-view-versus-a-copy\n",
      "  df['timestamp'] = df['timestamp'].astype('float')\n"
     ]
    }
   ],
   "source": [
    "df['timestamp'] = df['timestamp'].astype('float')"
   ]
  },
  {
   "cell_type": "code",
   "execution_count": 25,
   "metadata": {},
   "outputs": [],
   "source": [
    "df_day1 = df.loc[(20220701000000.000 < df['timestamp']) & (df['timestamp'] < 20220702000000.000)]"
   ]
  },
  {
   "cell_type": "markdown",
   "metadata": {},
   "source": [
    "- Defind the accumulated fuel rate over time"
   ]
  },
  {
   "cell_type": "code",
   "execution_count": 9,
   "metadata": {},
   "outputs": [],
   "source": [
    "df['FuelConsumption'] = df['engineFuelRate']*0.3/3600"
   ]
  },
  {
   "cell_type": "code",
   "execution_count": 10,
   "metadata": {},
   "outputs": [
    {
     "data": {
      "text/plain": [
       "93943    0.00025\n",
       "93944    0.00050\n",
       "93945    0.00075\n",
       "93946    0.00100\n",
       "93947    0.00125\n",
       "Name: accum_fuel, dtype: float64"
      ]
     },
     "execution_count": 10,
     "metadata": {},
     "output_type": "execute_result"
    }
   ],
   "source": [
    "df['accum_fuel'] = df['FuelConsumption'].cumsum()\n",
    "df['accum_fuel'].head(5)"
   ]
  },
  {
   "cell_type": "code",
   "execution_count": 11,
   "metadata": {},
   "outputs": [
    {
     "data": {
      "text/plain": [
       "count    3.426523e+06\n",
       "mean     2.932105e+04\n",
       "std      1.720556e+04\n",
       "min      2.500000e-04\n",
       "25%      1.458322e+04\n",
       "50%      2.903469e+04\n",
       "75%      4.425852e+04\n",
       "max      5.975484e+04\n",
       "Name: accum_fuel, dtype: float64"
      ]
     },
     "execution_count": 11,
     "metadata": {},
     "output_type": "execute_result"
    }
   ],
   "source": [
    "df['accum_fuel'].describe()"
   ]
  },
  {
   "cell_type": "markdown",
   "metadata": {},
   "source": [
    "- The total Fuel consumption during July was around 60,000 L"
   ]
  },
  {
   "cell_type": "code",
   "execution_count": 13,
   "metadata": {},
   "outputs": [
    {
     "data": {
      "text/plain": [
       "[Text(0.5, 0, 'time line'),\n",
       " Text(0, 0.5, 'Fuel consumption'),\n",
       " Text(0.5, 1.0, 'accumulated Fuel consumption in July')]"
      ]
     },
     "execution_count": 13,
     "metadata": {},
     "output_type": "execute_result"
    },
    {
     "data": {
      "image/png": "[encoded data removed]",
      "text/plain": [
       "<Figure size 640x480 with 1 Axes>"
      ]
     },
     "metadata": {},
     "output_type": "display_data"
    }
   ],
   "source": [
    "sns.scatterplot(data=df, x=df.timestamp, y=df.accum_fuel).set(xlabel=\"time line\", ylabel = \"Fuel consumption\", title= \"accumulated Fuel consumption in July\")"
   ]
  },
  {
   "cell_type": "code",
   "execution_count": 14,
   "metadata": {},
   "outputs": [
    {
     "data": {
      "text/plain": [
       "(       engineSpeed  speedOverGround\n",
       " 93943       752.00         0.074821\n",
       " 93944       772.75         0.068283\n",
       " 93945       793.50         0.061961\n",
       " 93946       766.50         0.055971\n",
       " 93947       707.00         0.050475,\n",
       " 93943    0.00025\n",
       " 93944    0.00050\n",
       " 93945    0.00075\n",
       " 93946    0.00100\n",
       " 93947    0.00125\n",
       " Name: accum_fuel, dtype: float64)"
      ]
     },
     "execution_count": 14,
     "metadata": {},
     "output_type": "execute_result"
    }
   ],
   "source": [
    "X, y = df[[\"engineSpeed\", \"speedOverGround\"]], df[\"accum_fuel\"]\n",
    "X.head(5), y.head(5)"
   ]
  },
  {
   "cell_type": "markdown",
   "metadata": {},
   "source": [
    "### Modelling"
   ]
  },
  {
   "cell_type": "code",
   "execution_count": 15,
   "metadata": {},
   "outputs": [
    {
     "data": {
      "text/plain": [
       "((2295770, 2), (2295770,), (565376, 2), (565376,), (565377, 2), (565377,))"
      ]
     },
     "execution_count": 15,
     "metadata": {},
     "output_type": "execute_result"
    }
   ],
   "source": [
    "X_train, X_test, y_train, y_test = train_test_split(X, y, test_size=0.33, random_state=42)\n",
    "X_val, X_test, y_val, y_test = train_test_split(X_test, y_test, test_size=0.5, random_state=42)\n",
    "    \n",
    "X_train.shape, y_train.shape, X_val.shape, y_val.shape, X_test.shape, y_test.shape"
   ]
  },
  {
   "cell_type": "markdown",
   "metadata": {},
   "source": [
    "- Normalization (min-max feature scaling)"
   ]
  },
  {
   "cell_type": "code",
   "execution_count": 16,
   "metadata": {},
   "outputs": [
    {
     "name": "stdout",
     "output_type": "stream",
     "text": [
      "0.00 ≤ scaled_X_train ≤ 1.00\n",
      "0.00 ≤ scaled_X_test ≤ 1.00\n"
     ]
    }
   ],
   "source": [
    "scaler = MinMaxScaler()\n",
    "scaler.fit(X_train)\n",
    "\n",
    "scaled_X_train = scaler.transform(X_train)\n",
    "scaled_X_test = scaler.transform(X_test)\n",
    "\n",
    "print(f\"{scaled_X_train.min():.2f} ≤ scaled_X_train ≤ {scaled_X_train.max():.2f}\")\n",
    "print(f\"{scaled_X_test.min():.2f} ≤ scaled_X_test ≤ {scaled_X_test.max():.2f}\") "
   ]
  },
  {
   "cell_type": "code",
   "execution_count": 17,
   "metadata": {},
   "outputs": [
    {
     "name": "stdout",
     "output_type": "stream",
     "text": [
      "Parameters: [  9252.79871958 -11077.12948025]\n",
      "Intercept: 28600.099038258704\n"
     ]
    }
   ],
   "source": [
    "model_SVD = LinearRegression(fit_intercept = True)\n",
    "model_SVD.fit(scaled_X_train, y_train)\n",
    "print(f\"Parameters: {model_SVD.coef_}\")\n",
    "print(f\"Intercept: {model_SVD.intercept_}\")"
   ]
  },
  {
   "cell_type": "code",
   "execution_count": 18,
   "metadata": {},
   "outputs": [
    {
     "name": "stdout",
     "output_type": "stream",
     "text": [
      "Parameters: [  9124.96466768 -11049.58523022]\n",
      "Intercept: [28812.25714048]\n"
     ]
    }
   ],
   "source": [
    "model_SGD = SGDRegressor(loss = \"squared_error\", learning_rate=\"invscaling\", max_iter = 1000)\n",
    "model_SGD.fit(scaled_X_train, y_train)\n",
    "print(f\"Parameters: {model_SGD.coef_}\")\n",
    "print(f\"Intercept: {model_SGD.intercept_}\")"
   ]
  },
  {
   "cell_type": "code",
   "execution_count": 23,
   "metadata": {},
   "outputs": [
    {
     "name": "stdout",
     "output_type": "stream",
     "text": [
      "Scaled features [[0.96755464 0.7205966 ]], label 19512.4681250\n",
      "Prediction SVD: 29570.5455679\n",
      "Prediction SGD: 29678.8655324\n"
     ]
    }
   ],
   "source": [
    "test_sample_features = scaled_X_test[5566].reshape(1,-1)\n",
    "test_sample_target = y_test.values[5566]\n",
    "\n",
    "print(f\"Scaled features {test_sample_features}, label {test_sample_target:.7f}\")\n",
    "print(f\"Prediction SVD: {model_SVD.predict(test_sample_features)[0]:.7f}\")\n",
    "print(f\"Prediction SGD: {model_SGD.predict(test_sample_features)[0]:.7f}\")"
   ]
  },
  {
   "cell_type": "code",
   "execution_count": 20,
   "metadata": {},
   "outputs": [
    {
     "name": "stdout",
     "output_type": "stream",
     "text": [
      "SVD, MAE: 14885.0731509, MSE: 294419804.2691927, RMSE: 17158.6655737\n",
      "SGD, MAE: 14886.7879259, MSE: 294441573.7659814, RMSE: 17159.2999206\n"
     ]
    }
   ],
   "source": [
    "y_pred_SVD = model_SVD.predict(scaled_X_test)\n",
    "y_pred_SGD = model_SGD.predict(scaled_X_test)\n",
    "\n",
    "mae_SVD = mean_absolute_error(y_test, y_pred_SVD)\n",
    "mse_SVD = mean_squared_error(y_test, y_pred_SVD)\n",
    "rmse_SVD = np.sqrt(mse_SVD)\n",
    "\n",
    "mae_SGD = mean_absolute_error(y_test, y_pred_SGD)\n",
    "mse_SGD = mean_squared_error(y_test, y_pred_SGD)\n",
    "rmse_SGD = np.sqrt(mse_SGD)\n",
    "\n",
    "print(f\"SVD, MAE: {mae_SVD:.7f}, MSE: {mse_SVD:.7f}, RMSE: {rmse_SVD:.7f}\")\n",
    "print(f\"SGD, MAE: {mae_SGD:.7f}, MSE: {mse_SGD:.7f}, RMSE: {rmse_SGD:.7f}\")"
   ]
  }
 ],
 "metadata": {
  "kernelspec": {
   "display_name": "Python 3.9.6 ('Deep_learning-JeCDGH9C')",
   "language": "python",
   "name": "python3"
  },
  "language_info": {
   "codemirror_mode": {
    "name": "ipython",
    "version": 3
   },
   "file_extension": ".py",
   "mimetype": "text/x-python",
   "name": "python",
   "nbconvert_exporter": "python",
   "pygments_lexer": "ipython3",
   "version": "3.9.6"
  },
  "orig_nbformat": 4,
  "vscode": {
   "interpreter": {
    "hash": "b264e75a522f2a70b5475f8be1585a42fc6bf0efb742e10f55b8ed00d7592aba"
   }
  }
 },
 "nbformat": 4,
 "nbformat_minor": 2
}
