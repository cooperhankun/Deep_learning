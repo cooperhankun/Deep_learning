{
 "cells": [
  {
   "cell_type": "markdown",
   "metadata": {},
   "source": [
    "\n",
    "<a href=\"https://colab.research.google.com/github/kokchun/Deep-learning-AI21/blob/main/Exercises/E0-MLP.ipynb\" target=\"_parent\"><img align=\"left\" src=\"https://colab.research.google.com/assets/colab-badge.svg\" alt=\"Open In Colab\"/></a> &nbsp; to see hints and answers."
   ]
  },
  {
   "cell_type": "markdown",
   "metadata": {},
   "source": [
    "---\n",
    "# Multilayered perceptron (MLP) exercises \n",
    "\n",
    "---\n",
    "These are introductory exercises in Deep learning with focus in **MLP** for regression and classification.\n",
    "\n",
    "<p class = \"alert alert-info\" role=\"alert\"><b>Note</b> that sometimes you don't get exactly the same answer as I get, but it doesn't neccessarily mean it is wrong. Could be some parameters, randomization, that we have different. Also very important is that in the future there won't be any answer sheets, use your skills in data analysis, mathematics and statistics to back up your work.</p>\n",
    "\n",
    "<p class = \"alert alert-info\" role=\"alert\"><b>Note</b> that in cases when you start to repeat code, try not to. Create functions to reuse code instead. </p>\n",
    "\n",
    "<p class = \"alert alert-info\" role=\"alert\"><b>Remember</b> to use <b>descriptive variable, function, index </b> and <b> column names</b> in order to get readable code </p>\n",
    "\n",
    "The number of stars (\\*), (\\*\\*), (\\*\\*\\*) denotes the difficulty level of the task\n",
    "\n",
    "---"
   ]
  },
  {
   "cell_type": "markdown",
   "metadata": {},
   "source": [
    "## 0. MLP for regression (*)\n",
    "\n",
    "We will continue with the dataset that we used in the lecture with predicting miles per gallons using an MLP for regression.\n",
    "\n",
    "&nbsp; a) Load the mpg dataset using seaborn. (*)\n",
    "\n",
    "&nbsp; b) Use your data analysis skills to perform EDA. (*)\n",
    "\n",
    "&nbsp; c) Find out the missing values in the dataset and use a machine learning model to fill them in (imputation). (**)\n",
    "\n",
    "&nbsp; d) Can you figure out a way to see if the values filled in are reasonable? (**)\n",
    "\n",
    "&nbsp; e) Do a train|val|test split on the data and scale it properly. Test out which scaling method to use. (*)\n",
    "\n",
    "&nbsp; f) Create an MLP with hidden layers, 1-3, and test out different amount of nodes. Choose the number of epochs you want to use throughout all experiments. Plot training losses and validation losses for different configurations. (*)\n",
    "\n",
    "&nbsp; g) Now use early stopping to tune the number of epochs. (*)\n",
    "\n",
    "&nbsp; h) Train on all training data and validation data. (*)\n",
    "\n",
    "&nbsp; i) Predict on test data and evaluate. (*)\n",
    "\n",
    "&nbsp; j) Can you create an MLP model that beats random forest for this dataset? (**)\n",
    "\n",
    "<details>\n",
    "\n",
    "<summary>Hint</summary>\n",
    "\n",
    "d) Perhaps some statistical analysis and visual comparison of similar samples? Also combine with domain skills. \n",
    "\n",
    "f) Decide how to do systematic testing and document them.\n",
    "\n",
    "j) Don't forget about classical machine learning models that we learned in the last course, in many cases they can outperform neural networks. You need to pick the right model for the right problem.\n",
    "\n",
    "</details>\n",
    "\n",
    "<details>\n",
    "\n",
    "<summary>Answer</summary>\n",
    "\n",
    "No answers here, discuss with your fellow data scientists to move forward if you're stuck.\n",
    "\n",
    "\n",
    "</details>\n",
    "\n",
    "---"
   ]
  },
  {
   "cell_type": "code",
   "execution_count": 2,
   "metadata": {},
   "outputs": [
    {
     "data": {
      "text/html": [
       "<div>\n",
       "<style scoped>\n",
       "    .dataframe tbody tr th:only-of-type {\n",
       "        vertical-align: middle;\n",
       "    }\n",
       "\n",
       "    .dataframe tbody tr th {\n",
       "        vertical-align: top;\n",
       "    }\n",
       "\n",
       "    .dataframe thead th {\n",
       "        text-align: right;\n",
       "    }\n",
       "</style>\n",
       "<table border=\"1\" class=\"dataframe\">\n",
       "  <thead>\n",
       "    <tr style=\"text-align: right;\">\n",
       "      <th></th>\n",
       "      <th>mpg</th>\n",
       "      <th>cylinders</th>\n",
       "      <th>displacement</th>\n",
       "      <th>horsepower</th>\n",
       "      <th>weight</th>\n",
       "      <th>acceleration</th>\n",
       "      <th>model_year</th>\n",
       "      <th>origin</th>\n",
       "    </tr>\n",
       "  </thead>\n",
       "  <tbody>\n",
       "    <tr>\n",
       "      <th>0</th>\n",
       "      <td>18.0</td>\n",
       "      <td>8</td>\n",
       "      <td>307.0</td>\n",
       "      <td>130.0</td>\n",
       "      <td>3504</td>\n",
       "      <td>12.0</td>\n",
       "      <td>70</td>\n",
       "      <td>usa</td>\n",
       "    </tr>\n",
       "    <tr>\n",
       "      <th>1</th>\n",
       "      <td>15.0</td>\n",
       "      <td>8</td>\n",
       "      <td>350.0</td>\n",
       "      <td>165.0</td>\n",
       "      <td>3693</td>\n",
       "      <td>11.5</td>\n",
       "      <td>70</td>\n",
       "      <td>usa</td>\n",
       "    </tr>\n",
       "    <tr>\n",
       "      <th>2</th>\n",
       "      <td>18.0</td>\n",
       "      <td>8</td>\n",
       "      <td>318.0</td>\n",
       "      <td>150.0</td>\n",
       "      <td>3436</td>\n",
       "      <td>11.0</td>\n",
       "      <td>70</td>\n",
       "      <td>usa</td>\n",
       "    </tr>\n",
       "    <tr>\n",
       "      <th>3</th>\n",
       "      <td>16.0</td>\n",
       "      <td>8</td>\n",
       "      <td>304.0</td>\n",
       "      <td>150.0</td>\n",
       "      <td>3433</td>\n",
       "      <td>12.0</td>\n",
       "      <td>70</td>\n",
       "      <td>usa</td>\n",
       "    </tr>\n",
       "    <tr>\n",
       "      <th>4</th>\n",
       "      <td>17.0</td>\n",
       "      <td>8</td>\n",
       "      <td>302.0</td>\n",
       "      <td>140.0</td>\n",
       "      <td>3449</td>\n",
       "      <td>10.5</td>\n",
       "      <td>70</td>\n",
       "      <td>usa</td>\n",
       "    </tr>\n",
       "  </tbody>\n",
       "</table>\n",
       "</div>"
      ],
      "text/plain": [
       "    mpg  cylinders  displacement  horsepower  weight  acceleration  \\\n",
       "0  18.0          8         307.0       130.0    3504          12.0   \n",
       "1  15.0          8         350.0       165.0    3693          11.5   \n",
       "2  18.0          8         318.0       150.0    3436          11.0   \n",
       "3  16.0          8         304.0       150.0    3433          12.0   \n",
       "4  17.0          8         302.0       140.0    3449          10.5   \n",
       "\n",
       "   model_year origin  \n",
       "0          70    usa  \n",
       "1          70    usa  \n",
       "2          70    usa  \n",
       "3          70    usa  \n",
       "4          70    usa  "
      ]
     },
     "execution_count": 2,
     "metadata": {},
     "output_type": "execute_result"
    }
   ],
   "source": [
    "import seaborn as sns \n",
    "import pandas as pd \n",
    "import matplotlib.pyplot as plt \n",
    "import numpy as np \n",
    "\n",
    "df = sns.load_dataset(\"mpg\").drop(\"name\", axis = 1)\n",
    "\n",
    "df.head()"
   ]
  },
  {
   "cell_type": "code",
   "execution_count": 3,
   "metadata": {},
   "outputs": [
    {
     "name": "stdout",
     "output_type": "stream",
     "text": [
      "<class 'pandas.core.frame.DataFrame'>\n",
      "RangeIndex: 398 entries, 0 to 397\n",
      "Data columns (total 8 columns):\n",
      " #   Column        Non-Null Count  Dtype  \n",
      "---  ------        --------------  -----  \n",
      " 0   mpg           398 non-null    float64\n",
      " 1   cylinders     398 non-null    int64  \n",
      " 2   displacement  398 non-null    float64\n",
      " 3   horsepower    392 non-null    float64\n",
      " 4   weight        398 non-null    int64  \n",
      " 5   acceleration  398 non-null    float64\n",
      " 6   model_year    398 non-null    int64  \n",
      " 7   origin        398 non-null    object \n",
      "dtypes: float64(4), int64(3), object(1)\n",
      "memory usage: 25.0+ KB\n"
     ]
    }
   ],
   "source": [
    "df.info()"
   ]
  },
  {
   "cell_type": "code",
   "execution_count": 4,
   "metadata": {},
   "outputs": [
    {
     "data": {
      "text/plain": [
       "<seaborn.axisgrid.FacetGrid at 0x17b7d40b880>"
      ]
     },
     "execution_count": 4,
     "metadata": {},
     "output_type": "execute_result"
    },
    {
     "data": {
      "image/png": "[encoded data removed]",
      "text/plain": [
       "<Figure size 360x360 with 1 Axes>"
      ]
     },
     "metadata": {
      "needs_background": "light"
     },
     "output_type": "display_data"
    }
   ],
   "source": [
    "sns.displot(df.mpg)"
   ]
  },
  {
   "cell_type": "code",
   "execution_count": 5,
   "metadata": {},
   "outputs": [
    {
     "data": {
      "text/html": [
       "<div>\n",
       "<style scoped>\n",
       "    .dataframe tbody tr th:only-of-type {\n",
       "        vertical-align: middle;\n",
       "    }\n",
       "\n",
       "    .dataframe tbody tr th {\n",
       "        vertical-align: top;\n",
       "    }\n",
       "\n",
       "    .dataframe thead th {\n",
       "        text-align: right;\n",
       "    }\n",
       "</style>\n",
       "<table border=\"1\" class=\"dataframe\">\n",
       "  <thead>\n",
       "    <tr style=\"text-align: right;\">\n",
       "      <th></th>\n",
       "      <th>mpg</th>\n",
       "      <th>cylinders</th>\n",
       "      <th>displacement</th>\n",
       "      <th>horsepower</th>\n",
       "      <th>weight</th>\n",
       "      <th>acceleration</th>\n",
       "      <th>model_year</th>\n",
       "      <th>origin</th>\n",
       "    </tr>\n",
       "  </thead>\n",
       "  <tbody>\n",
       "    <tr>\n",
       "      <th>32</th>\n",
       "      <td>25.0</td>\n",
       "      <td>4</td>\n",
       "      <td>98.0</td>\n",
       "      <td>NaN</td>\n",
       "      <td>2046</td>\n",
       "      <td>19.0</td>\n",
       "      <td>71</td>\n",
       "      <td>usa</td>\n",
       "    </tr>\n",
       "    <tr>\n",
       "      <th>126</th>\n",
       "      <td>21.0</td>\n",
       "      <td>6</td>\n",
       "      <td>200.0</td>\n",
       "      <td>NaN</td>\n",
       "      <td>2875</td>\n",
       "      <td>17.0</td>\n",
       "      <td>74</td>\n",
       "      <td>usa</td>\n",
       "    </tr>\n",
       "    <tr>\n",
       "      <th>330</th>\n",
       "      <td>40.9</td>\n",
       "      <td>4</td>\n",
       "      <td>85.0</td>\n",
       "      <td>NaN</td>\n",
       "      <td>1835</td>\n",
       "      <td>17.3</td>\n",
       "      <td>80</td>\n",
       "      <td>europe</td>\n",
       "    </tr>\n",
       "    <tr>\n",
       "      <th>336</th>\n",
       "      <td>23.6</td>\n",
       "      <td>4</td>\n",
       "      <td>140.0</td>\n",
       "      <td>NaN</td>\n",
       "      <td>2905</td>\n",
       "      <td>14.3</td>\n",
       "      <td>80</td>\n",
       "      <td>usa</td>\n",
       "    </tr>\n",
       "    <tr>\n",
       "      <th>354</th>\n",
       "      <td>34.5</td>\n",
       "      <td>4</td>\n",
       "      <td>100.0</td>\n",
       "      <td>NaN</td>\n",
       "      <td>2320</td>\n",
       "      <td>15.8</td>\n",
       "      <td>81</td>\n",
       "      <td>europe</td>\n",
       "    </tr>\n",
       "    <tr>\n",
       "      <th>374</th>\n",
       "      <td>23.0</td>\n",
       "      <td>4</td>\n",
       "      <td>151.0</td>\n",
       "      <td>NaN</td>\n",
       "      <td>3035</td>\n",
       "      <td>20.5</td>\n",
       "      <td>82</td>\n",
       "      <td>usa</td>\n",
       "    </tr>\n",
       "  </tbody>\n",
       "</table>\n",
       "</div>"
      ],
      "text/plain": [
       "      mpg  cylinders  displacement  horsepower  weight  acceleration  \\\n",
       "32   25.0          4          98.0         NaN    2046          19.0   \n",
       "126  21.0          6         200.0         NaN    2875          17.0   \n",
       "330  40.9          4          85.0         NaN    1835          17.3   \n",
       "336  23.6          4         140.0         NaN    2905          14.3   \n",
       "354  34.5          4         100.0         NaN    2320          15.8   \n",
       "374  23.0          4         151.0         NaN    3035          20.5   \n",
       "\n",
       "     model_year  origin  \n",
       "32           71     usa  \n",
       "126          74     usa  \n",
       "330          80  europe  \n",
       "336          80     usa  \n",
       "354          81  europe  \n",
       "374          82     usa  "
      ]
     },
     "execution_count": 5,
     "metadata": {},
     "output_type": "execute_result"
    }
   ],
   "source": [
    "df.query(\"horsepower.isna()\")"
   ]
  },
  {
   "cell_type": "markdown",
   "metadata": {},
   "source": [
    "### Using KNN to impute the nearest values"
   ]
  },
  {
   "cell_type": "code",
   "execution_count": 6,
   "metadata": {},
   "outputs": [
    {
     "data": {
      "text/plain": [
       "(398,)"
      ]
     },
     "execution_count": 6,
     "metadata": {},
     "output_type": "execute_result"
    }
   ],
   "source": [
    "from sklearn.impute import KNNImputer\n",
    "\n",
    "imputer = KNNImputer(n_neighbors=2) \n",
    "hp = df[\"horsepower\"].values\n",
    "hp = hp.reshape(-1,1)\n",
    "df[\"horsepower\"] = imputer.fit_transform(hp)\n",
    "df[\"horsepower\"].shape"
   ]
  },
  {
   "cell_type": "code",
   "execution_count": 7,
   "metadata": {},
   "outputs": [
    {
     "name": "stdout",
     "output_type": "stream",
     "text": [
      "<class 'pandas.core.frame.DataFrame'>\n",
      "RangeIndex: 398 entries, 0 to 397\n",
      "Data columns (total 8 columns):\n",
      " #   Column        Non-Null Count  Dtype  \n",
      "---  ------        --------------  -----  \n",
      " 0   mpg           398 non-null    float64\n",
      " 1   cylinders     398 non-null    int64  \n",
      " 2   displacement  398 non-null    float64\n",
      " 3   horsepower    398 non-null    float64\n",
      " 4   weight        398 non-null    int64  \n",
      " 5   acceleration  398 non-null    float64\n",
      " 6   model_year    398 non-null    int64  \n",
      " 7   origin        398 non-null    object \n",
      "dtypes: float64(4), int64(3), object(1)\n",
      "memory usage: 25.0+ KB\n"
     ]
    }
   ],
   "source": [
    "df.info()"
   ]
  },
  {
   "cell_type": "code",
   "execution_count": 8,
   "metadata": {},
   "outputs": [
    {
     "data": {
      "text/plain": [
       "<AxesSubplot:xlabel='mpg', ylabel='horsepower'>"
      ]
     },
     "execution_count": 8,
     "metadata": {},
     "output_type": "execute_result"
    },
    {
     "data": {
      "image/png": "[encoded data removed]",
      "text/plain": [
       "<Figure size 432x288 with 1 Axes>"
      ]
     },
     "metadata": {
      "needs_background": "light"
     },
     "output_type": "display_data"
    }
   ],
   "source": [
    "sns.scatterplot(data = df, x = \"mpg\", y = \"horsepower\")"
   ]
  },
  {
   "cell_type": "markdown",
   "metadata": {},
   "source": [
    "dummy the year and origin variables"
   ]
  },
  {
   "cell_type": "code",
   "execution_count": 9,
   "metadata": {},
   "outputs": [],
   "source": [
    "bins = pd.IntervalIndex.from_tuples([(69, 73), (74,77), (78,82)])\n",
    "df[\"model_year\"] = pd.cut(df[\"model_year\"], bins = bins)"
   ]
  },
  {
   "cell_type": "code",
   "execution_count": 10,
   "metadata": {},
   "outputs": [
    {
     "data": {
      "text/html": [
       "<div>\n",
       "<style scoped>\n",
       "    .dataframe tbody tr th:only-of-type {\n",
       "        vertical-align: middle;\n",
       "    }\n",
       "\n",
       "    .dataframe tbody tr th {\n",
       "        vertical-align: top;\n",
       "    }\n",
       "\n",
       "    .dataframe thead th {\n",
       "        text-align: right;\n",
       "    }\n",
       "</style>\n",
       "<table border=\"1\" class=\"dataframe\">\n",
       "  <thead>\n",
       "    <tr style=\"text-align: right;\">\n",
       "      <th></th>\n",
       "      <th>mpg</th>\n",
       "      <th>cylinders</th>\n",
       "      <th>displacement</th>\n",
       "      <th>horsepower</th>\n",
       "      <th>weight</th>\n",
       "      <th>acceleration</th>\n",
       "      <th>model_year_(74, 77]</th>\n",
       "      <th>model_year_(78, 82]</th>\n",
       "      <th>origin_japan</th>\n",
       "      <th>origin_usa</th>\n",
       "    </tr>\n",
       "  </thead>\n",
       "  <tbody>\n",
       "    <tr>\n",
       "      <th>0</th>\n",
       "      <td>18.0</td>\n",
       "      <td>8</td>\n",
       "      <td>307.0</td>\n",
       "      <td>130.0</td>\n",
       "      <td>3504</td>\n",
       "      <td>12.0</td>\n",
       "      <td>0</td>\n",
       "      <td>0</td>\n",
       "      <td>0</td>\n",
       "      <td>1</td>\n",
       "    </tr>\n",
       "    <tr>\n",
       "      <th>1</th>\n",
       "      <td>15.0</td>\n",
       "      <td>8</td>\n",
       "      <td>350.0</td>\n",
       "      <td>165.0</td>\n",
       "      <td>3693</td>\n",
       "      <td>11.5</td>\n",
       "      <td>0</td>\n",
       "      <td>0</td>\n",
       "      <td>0</td>\n",
       "      <td>1</td>\n",
       "    </tr>\n",
       "    <tr>\n",
       "      <th>2</th>\n",
       "      <td>18.0</td>\n",
       "      <td>8</td>\n",
       "      <td>318.0</td>\n",
       "      <td>150.0</td>\n",
       "      <td>3436</td>\n",
       "      <td>11.0</td>\n",
       "      <td>0</td>\n",
       "      <td>0</td>\n",
       "      <td>0</td>\n",
       "      <td>1</td>\n",
       "    </tr>\n",
       "    <tr>\n",
       "      <th>3</th>\n",
       "      <td>16.0</td>\n",
       "      <td>8</td>\n",
       "      <td>304.0</td>\n",
       "      <td>150.0</td>\n",
       "      <td>3433</td>\n",
       "      <td>12.0</td>\n",
       "      <td>0</td>\n",
       "      <td>0</td>\n",
       "      <td>0</td>\n",
       "      <td>1</td>\n",
       "    </tr>\n",
       "    <tr>\n",
       "      <th>4</th>\n",
       "      <td>17.0</td>\n",
       "      <td>8</td>\n",
       "      <td>302.0</td>\n",
       "      <td>140.0</td>\n",
       "      <td>3449</td>\n",
       "      <td>10.5</td>\n",
       "      <td>0</td>\n",
       "      <td>0</td>\n",
       "      <td>0</td>\n",
       "      <td>1</td>\n",
       "    </tr>\n",
       "  </tbody>\n",
       "</table>\n",
       "</div>"
      ],
      "text/plain": [
       "    mpg  cylinders  displacement  horsepower  weight  acceleration  \\\n",
       "0  18.0          8         307.0       130.0    3504          12.0   \n",
       "1  15.0          8         350.0       165.0    3693          11.5   \n",
       "2  18.0          8         318.0       150.0    3436          11.0   \n",
       "3  16.0          8         304.0       150.0    3433          12.0   \n",
       "4  17.0          8         302.0       140.0    3449          10.5   \n",
       "\n",
       "   model_year_(74, 77]  model_year_(78, 82]  origin_japan  origin_usa  \n",
       "0                    0                    0             0           1  \n",
       "1                    0                    0             0           1  \n",
       "2                    0                    0             0           1  \n",
       "3                    0                    0             0           1  \n",
       "4                    0                    0             0           1  "
      ]
     },
     "execution_count": 10,
     "metadata": {},
     "output_type": "execute_result"
    }
   ],
   "source": [
    "df = pd.get_dummies(df, columns=[\"model_year\", \"origin\"], drop_first=True)\n",
    "df.head()"
   ]
  },
  {
   "cell_type": "markdown",
   "metadata": {},
   "source": [
    "split the data into train,test,valid"
   ]
  },
  {
   "cell_type": "code",
   "execution_count": 11,
   "metadata": {},
   "outputs": [
    {
     "data": {
      "text/plain": [
       "((278, 9), (60, 9), (60, 9))"
      ]
     },
     "execution_count": 11,
     "metadata": {},
     "output_type": "execute_result"
    }
   ],
   "source": [
    "from sklearn.model_selection import train_test_split\n",
    "\n",
    "X, y = df.drop(\"mpg\", axis = 1).values, df[\"mpg\"].values\n",
    "\n",
    "X_train, X_test, y_train, y_test = train_test_split(X, y, test_size=0.3, random_state=42)\n",
    "X_valid, X_test, y_valid, y_test = train_test_split(X_test,y_test, test_size=0.5)\n",
    "\n",
    "X_train.shape, X_valid.shape, X_test.shape"
   ]
  },
  {
   "cell_type": "code",
   "execution_count": 12,
   "metadata": {},
   "outputs": [
    {
     "data": {
      "text/plain": [
       "((278, 9), (60, 9), (60, 9))"
      ]
     },
     "execution_count": 12,
     "metadata": {},
     "output_type": "execute_result"
    }
   ],
   "source": [
    "from sklearn.preprocessing import StandardScaler\n",
    "\n",
    "scaler = StandardScaler()\n",
    "\n",
    "scaled_X_train = scaler.fit_transform(X_train)\n",
    "scaled_X_test = scaler.transform(X_test)\n",
    "scaled_X_val = scaler.transform(X_valid)\n",
    "\n",
    "scaled_X_train.shape, scaled_X_test.shape, scaled_X_val.shape"
   ]
  },
  {
   "cell_type": "markdown",
   "metadata": {},
   "source": [
    "ML 0 hidden layer, 1 output layer and no activation (linear)"
   ]
  },
  {
   "cell_type": "code",
   "execution_count": 57,
   "metadata": {},
   "outputs": [
    {
     "name": "stdout",
     "output_type": "stream",
     "text": [
      "Model: \"Shallow_network\"\n",
      "_________________________________________________________________\n",
      " Layer (type)                Output Shape              Param #   \n",
      "=================================================================\n",
      " Output_layer (Dense)        (None, 1)                 10        \n",
      "                                                                 \n",
      "=================================================================\n",
      "Total params: 10\n",
      "Trainable params: 10\n",
      "Non-trainable params: 0\n",
      "_________________________________________________________________\n"
     ]
    }
   ],
   "source": [
    "from tensorflow.keras import Sequential\n",
    "from tensorflow.keras.layers import Dense, InputLayer\n",
    "from tensorflow.keras.optimizers import SGD\n",
    "\n",
    "model_shallow = Sequential(name = \"Shallow_network\")\n",
    "model_shallow.add(InputLayer(X_train.shape[1]))\n",
    "model_shallow.add(Dense(1, name = \"Output_layer\"))\n",
    "model_shallow.compile(loss = \"mean_squared_error\", optimizer=SGD(learning_rate=.01))\n",
    "model_shallow.summary()"
   ]
  },
  {
   "cell_type": "code",
   "execution_count": 68,
   "metadata": {},
   "outputs": [
    {
     "data": {
      "text/plain": [
       "<keras.callbacks.History at 0x17b2040dbe0>"
      ]
     },
     "execution_count": 68,
     "metadata": {},
     "output_type": "execute_result"
    }
   ],
   "source": [
    "model_shallow.fit(scaled_X_train, y_train, epochs = 50, verbose=0,\n",
    "                  validation_data=(scaled_X_val, y_valid))"
   ]
  },
  {
   "cell_type": "code",
   "execution_count": 69,
   "metadata": {},
   "outputs": [
    {
     "data": {
      "text/plain": [
       "<AxesSubplot:title={'center':'Training loss and test loss'}, xlabel='Epochs', ylabel='Loss'>"
      ]
     },
     "execution_count": 69,
     "metadata": {},
     "output_type": "execute_result"
    },
    {
     "data": {
      "image/png": "[encoded data removed]",
      "text/plain": [
       "<Figure size 432x288 with 1 Axes>"
      ]
     },
     "metadata": {
      "needs_background": "light"
     },
     "output_type": "display_data"
    }
   ],
   "source": [
    "pd.DataFrame(model_shallow.history.history).plot(xlabel=\"Epochs\",\n",
    "                                                 ylabel=\"Loss\", title=\"Training loss and test loss\")"
   ]
  },
  {
   "cell_type": "markdown",
   "metadata": {},
   "source": [
    "MLP 2 hidden layer, 9 nodes"
   ]
  },
  {
   "cell_type": "code",
   "execution_count": 80,
   "metadata": {},
   "outputs": [
    {
     "name": "stdout",
     "output_type": "stream",
     "text": [
      "Model: \"MLP_initial\"\n",
      "_________________________________________________________________\n",
      " Layer (type)                Output Shape              Param #   \n",
      "=================================================================\n",
      " Hidden_layer1 (Dense)       (None, 9)                 90        \n",
      "                                                                 \n",
      " Hidden_layer2 (Dense)       (None, 9)                 90        \n",
      "                                                                 \n",
      " Output_layer (Dense)        (None, 1)                 10        \n",
      "                                                                 \n",
      "=================================================================\n",
      "Total params: 190\n",
      "Trainable params: 190\n",
      "Non-trainable params: 0\n",
      "_________________________________________________________________\n"
     ]
    }
   ],
   "source": [
    "model_1 = Sequential(name = \"MLP_initial\")\n",
    "model_1.add(InputLayer(X.shape[1], name = \"Input_layer\"))\n",
    "model_1.add(Dense(9, name = \"Hidden_layer1\", activation=\"relu\"))\n",
    "model_1.add(Dense(9, name = \"Hidden_layer2\", activation=\"relu\"))\n",
    "\n",
    "model_1.add(Dense(1, name = \"Output_layer\"))\n",
    "model_1.compile(loss =\"mean_squared_error\", optimizer=SGD(learning_rate=.01))\n",
    "model_1.summary()"
   ]
  },
  {
   "cell_type": "code",
   "execution_count": 81,
   "metadata": {},
   "outputs": [
    {
     "name": "stdout",
     "output_type": "stream",
     "text": [
      "Epoch 1/100\n",
      "9/9 [==============================] - 1s 21ms/step - loss: 416.5547 - val_loss: 528.4963\n",
      "Epoch 2/100\n",
      "9/9 [==============================] - 0s 5ms/step - loss: 443.0043 - val_loss: 388.0900\n",
      "Epoch 3/100\n",
      "9/9 [==============================] - 0s 13ms/step - loss: 327.0150 - val_loss: 290.4777\n",
      "Epoch 4/100\n",
      "9/9 [==============================] - 0s 10ms/step - loss: 245.7468 - val_loss: 217.5739\n",
      "Epoch 5/100\n",
      "9/9 [==============================] - 0s 10ms/step - loss: 153.5983 - val_loss: 23.2251\n",
      "Epoch 6/100\n",
      "9/9 [==============================] - 0s 7ms/step - loss: 19.6294 - val_loss: 8.7185\n",
      "Epoch 7/100\n",
      "9/9 [==============================] - 0s 9ms/step - loss: 10.8050 - val_loss: 10.5874\n",
      "Epoch 8/100\n",
      "9/9 [==============================] - 0s 27ms/step - loss: 11.7447 - val_loss: 9.6464\n",
      "Epoch 9/100\n",
      "9/9 [==============================] - 0s 12ms/step - loss: 10.9192 - val_loss: 8.6509\n",
      "Epoch 10/100\n",
      "9/9 [==============================] - 0s 9ms/step - loss: 9.9421 - val_loss: 11.8849\n",
      "Epoch 11/100\n",
      "9/9 [==============================] - 0s 9ms/step - loss: 11.8629 - val_loss: 7.6501\n",
      "Epoch 12/100\n",
      "9/9 [==============================] - 0s 8ms/step - loss: 9.3285 - val_loss: 7.9029\n",
      "Epoch 13/100\n",
      "9/9 [==============================] - 0s 7ms/step - loss: 16.4352 - val_loss: 8.6853\n",
      "Epoch 14/100\n",
      "9/9 [==============================] - 0s 9ms/step - loss: 11.3811 - val_loss: 11.0729\n",
      "Epoch 15/100\n",
      "9/9 [==============================] - 0s 13ms/step - loss: 12.7722 - val_loss: 7.0053\n",
      "Epoch 16/100\n",
      "9/9 [==============================] - 0s 9ms/step - loss: 10.0002 - val_loss: 16.6472\n",
      "Epoch 17/100\n",
      "9/9 [==============================] - 0s 12ms/step - loss: 11.9214 - val_loss: 6.8847\n",
      "Epoch 18/100\n",
      "9/9 [==============================] - 0s 9ms/step - loss: 13.2379 - val_loss: 9.1644\n",
      "Epoch 19/100\n",
      "9/9 [==============================] - 0s 8ms/step - loss: 11.8393 - val_loss: 7.3376\n",
      "Epoch 20/100\n",
      "9/9 [==============================] - 0s 8ms/step - loss: 9.4249 - val_loss: 26.2542\n",
      "Epoch 21/100\n",
      "9/9 [==============================] - 0s 8ms/step - loss: 11.0878 - val_loss: 10.0043\n",
      "Epoch 22/100\n",
      "9/9 [==============================] - 0s 8ms/step - loss: 16.8509 - val_loss: 8.5364\n",
      "Epoch 23/100\n",
      "9/9 [==============================] - 0s 10ms/step - loss: 8.8506 - val_loss: 7.0747\n",
      "Epoch 24/100\n",
      "9/9 [==============================] - 0s 8ms/step - loss: 11.2367 - val_loss: 6.2796\n",
      "Epoch 25/100\n",
      "9/9 [==============================] - 0s 6ms/step - loss: 10.0787 - val_loss: 20.9258\n",
      "Epoch 26/100\n",
      "9/9 [==============================] - 0s 10ms/step - loss: 16.3564 - val_loss: 13.9391\n",
      "Epoch 27/100\n",
      "9/9 [==============================] - 0s 8ms/step - loss: 10.5909 - val_loss: 6.1633\n",
      "Epoch 28/100\n",
      "9/9 [==============================] - 0s 9ms/step - loss: 8.5921 - val_loss: 6.9266\n",
      "Epoch 29/100\n",
      "9/9 [==============================] - 0s 8ms/step - loss: 9.2320 - val_loss: 9.5333\n",
      "Epoch 30/100\n",
      "9/9 [==============================] - 0s 6ms/step - loss: 12.9806 - val_loss: 7.0343\n",
      "Epoch 31/100\n",
      "9/9 [==============================] - 0s 8ms/step - loss: 9.6016 - val_loss: 7.9006\n",
      "Epoch 32/100\n",
      "9/9 [==============================] - 0s 6ms/step - loss: 10.5764 - val_loss: 9.6127\n",
      "Epoch 33/100\n",
      "9/9 [==============================] - 0s 9ms/step - loss: 10.6571 - val_loss: 17.2362\n",
      "Epoch 34/100\n",
      "9/9 [==============================] - 0s 10ms/step - loss: 9.9130 - val_loss: 6.0656\n",
      "Epoch 35/100\n",
      "9/9 [==============================] - 0s 12ms/step - loss: 8.4672 - val_loss: 6.9406\n",
      "Epoch 36/100\n",
      "9/9 [==============================] - 0s 8ms/step - loss: 8.9351 - val_loss: 5.8990\n",
      "Epoch 37/100\n",
      "9/9 [==============================] - 0s 8ms/step - loss: 9.3024 - val_loss: 10.9723\n",
      "Epoch 38/100\n",
      "9/9 [==============================] - 0s 5ms/step - loss: 8.7209 - val_loss: 6.1972\n",
      "Epoch 39/100\n",
      "9/9 [==============================] - 0s 10ms/step - loss: 9.1469 - val_loss: 7.1197\n",
      "Epoch 40/100\n",
      "9/9 [==============================] - 0s 4ms/step - loss: 9.3463 - val_loss: 6.1107\n",
      "Epoch 41/100\n",
      "9/9 [==============================] - 0s 8ms/step - loss: 10.8669 - val_loss: 27.9031\n",
      "Epoch 42/100\n",
      "9/9 [==============================] - 0s 8ms/step - loss: 13.8057 - val_loss: 5.8958\n",
      "Epoch 43/100\n",
      "9/9 [==============================] - 0s 8ms/step - loss: 8.3128 - val_loss: 12.9528\n",
      "Epoch 44/100\n",
      "9/9 [==============================] - 0s 7ms/step - loss: 9.6128 - val_loss: 6.1803\n",
      "Epoch 45/100\n",
      "9/9 [==============================] - 0s 8ms/step - loss: 12.3124 - val_loss: 21.8069\n",
      "Epoch 46/100\n",
      "9/9 [==============================] - 0s 8ms/step - loss: 8.9441 - val_loss: 5.6330\n",
      "Epoch 47/100\n",
      "9/9 [==============================] - 0s 8ms/step - loss: 8.5949 - val_loss: 6.7344\n",
      "Epoch 48/100\n",
      "9/9 [==============================] - 0s 7ms/step - loss: 10.2098 - val_loss: 7.4084\n",
      "Epoch 49/100\n",
      "9/9 [==============================] - 0s 8ms/step - loss: 8.1749 - val_loss: 5.8926\n",
      "Epoch 50/100\n",
      "9/9 [==============================] - 0s 7ms/step - loss: 8.8570 - val_loss: 7.3062\n",
      "Epoch 51/100\n",
      "9/9 [==============================] - 0s 7ms/step - loss: 10.0127 - val_loss: 13.8779\n",
      "Epoch 52/100\n",
      "9/9 [==============================] - 0s 6ms/step - loss: 13.0441 - val_loss: 10.3332\n",
      "Epoch 53/100\n",
      "9/9 [==============================] - 0s 8ms/step - loss: 16.4240 - val_loss: 5.8844\n",
      "Epoch 54/100\n",
      "9/9 [==============================] - 0s 6ms/step - loss: 9.7253 - val_loss: 5.2016\n",
      "Epoch 55/100\n",
      "9/9 [==============================] - 0s 8ms/step - loss: 8.1513 - val_loss: 7.8099\n",
      "Epoch 56/100\n",
      "9/9 [==============================] - 0s 8ms/step - loss: 9.7927 - val_loss: 10.8393\n",
      "Epoch 57/100\n",
      "9/9 [==============================] - 0s 10ms/step - loss: 10.8530 - val_loss: 6.5084\n",
      "Epoch 58/100\n",
      "9/9 [==============================] - 0s 8ms/step - loss: 10.0539 - val_loss: 10.0691\n",
      "Epoch 59/100\n",
      "9/9 [==============================] - 0s 9ms/step - loss: 12.1598 - val_loss: 7.2607\n",
      "Epoch 60/100\n",
      "9/9 [==============================] - 0s 6ms/step - loss: 9.8882 - val_loss: 5.9991\n",
      "Epoch 61/100\n",
      "9/9 [==============================] - 0s 11ms/step - loss: 10.6533 - val_loss: 9.6719\n",
      "Epoch 62/100\n",
      "9/9 [==============================] - 0s 7ms/step - loss: 8.2998 - val_loss: 7.4852\n",
      "Epoch 63/100\n",
      "9/9 [==============================] - 0s 7ms/step - loss: 8.2951 - val_loss: 7.2904\n",
      "Epoch 64/100\n",
      "9/9 [==============================] - 0s 7ms/step - loss: 14.3372 - val_loss: 5.3700\n",
      "Epoch 65/100\n",
      "9/9 [==============================] - 0s 10ms/step - loss: 9.3850 - val_loss: 7.3675\n",
      "Epoch 66/100\n",
      "9/9 [==============================] - 0s 12ms/step - loss: 11.0491 - val_loss: 9.8584\n",
      "Epoch 67/100\n",
      "9/9 [==============================] - 0s 8ms/step - loss: 10.5814 - val_loss: 9.1980\n",
      "Epoch 68/100\n",
      "9/9 [==============================] - 0s 13ms/step - loss: 8.3461 - val_loss: 5.2146\n",
      "Epoch 69/100\n",
      "9/9 [==============================] - 0s 11ms/step - loss: 7.5087 - val_loss: 7.2455\n",
      "Epoch 70/100\n",
      "9/9 [==============================] - 0s 8ms/step - loss: 7.6352 - val_loss: 5.2659\n",
      "Epoch 71/100\n",
      "9/9 [==============================] - 0s 8ms/step - loss: 8.2121 - val_loss: 5.3538\n",
      "Epoch 72/100\n",
      "9/9 [==============================] - 0s 11ms/step - loss: 8.3324 - val_loss: 8.3295\n",
      "Epoch 73/100\n",
      "9/9 [==============================] - 0s 6ms/step - loss: 11.7931 - val_loss: 15.4579\n",
      "Epoch 74/100\n",
      "9/9 [==============================] - 0s 25ms/step - loss: 11.6738 - val_loss: 8.0790\n",
      "Epoch 75/100\n",
      "9/9 [==============================] - 0s 8ms/step - loss: 9.0228 - val_loss: 15.5385\n",
      "Epoch 76/100\n",
      "9/9 [==============================] - 0s 10ms/step - loss: 14.8420 - val_loss: 5.1971\n",
      "Epoch 77/100\n",
      "9/9 [==============================] - 0s 7ms/step - loss: 7.6860 - val_loss: 6.2982\n",
      "Epoch 78/100\n",
      "9/9 [==============================] - 0s 12ms/step - loss: 9.3822 - val_loss: 6.7593\n",
      "Epoch 79/100\n",
      "9/9 [==============================] - 0s 8ms/step - loss: 10.6392 - val_loss: 6.2222\n",
      "Epoch 80/100\n",
      "9/9 [==============================] - 0s 8ms/step - loss: 9.1480 - val_loss: 5.4160\n",
      "Epoch 81/100\n",
      "9/9 [==============================] - 0s 7ms/step - loss: 7.8954 - val_loss: 11.8048\n",
      "Epoch 82/100\n",
      "9/9 [==============================] - 0s 9ms/step - loss: 11.0739 - val_loss: 5.1893\n",
      "Epoch 83/100\n",
      "9/9 [==============================] - 0s 7ms/step - loss: 7.4254 - val_loss: 5.2807\n",
      "Epoch 84/100\n",
      "9/9 [==============================] - 0s 11ms/step - loss: 9.6495 - val_loss: 9.5356\n",
      "Epoch 85/100\n",
      "9/9 [==============================] - 0s 10ms/step - loss: 9.2248 - val_loss: 13.1318\n",
      "Epoch 86/100\n",
      "9/9 [==============================] - 0s 8ms/step - loss: 11.3553 - val_loss: 6.0545\n",
      "Epoch 87/100\n",
      "9/9 [==============================] - 0s 8ms/step - loss: 9.5673 - val_loss: 6.9342\n",
      "Epoch 88/100\n",
      "9/9 [==============================] - 0s 7ms/step - loss: 8.1045 - val_loss: 5.0836\n",
      "Epoch 89/100\n",
      "9/9 [==============================] - 0s 8ms/step - loss: 8.4219 - val_loss: 7.5205\n",
      "Epoch 90/100\n",
      "9/9 [==============================] - 0s 8ms/step - loss: 7.7682 - val_loss: 9.1621\n",
      "Epoch 91/100\n",
      "9/9 [==============================] - 0s 8ms/step - loss: 9.3021 - val_loss: 7.0550\n",
      "Epoch 92/100\n",
      "9/9 [==============================] - 0s 9ms/step - loss: 7.5344 - val_loss: 4.7980\n",
      "Epoch 93/100\n",
      "9/9 [==============================] - 0s 11ms/step - loss: 7.8940 - val_loss: 7.7334\n",
      "Epoch 94/100\n",
      "9/9 [==============================] - 0s 8ms/step - loss: 9.1501 - val_loss: 5.0179\n",
      "Epoch 95/100\n",
      "9/9 [==============================] - 0s 6ms/step - loss: 8.5331 - val_loss: 6.0083\n",
      "Epoch 96/100\n",
      "9/9 [==============================] - 0s 8ms/step - loss: 8.4814 - val_loss: 5.2336\n",
      "Epoch 97/100\n",
      "9/9 [==============================] - 0s 6ms/step - loss: 8.8591 - val_loss: 4.8878\n",
      "Epoch 98/100\n",
      "9/9 [==============================] - 0s 7ms/step - loss: 8.1755 - val_loss: 4.8621\n",
      "Epoch 99/100\n",
      "9/9 [==============================] - 0s 8ms/step - loss: 8.7092 - val_loss: 5.5609\n",
      "Epoch 100/100\n",
      "9/9 [==============================] - 0s 10ms/step - loss: 10.4861 - val_loss: 10.8483\n"
     ]
    },
    {
     "data": {
      "text/plain": [
       "<keras.callbacks.History at 0x17b21734d60>"
      ]
     },
     "execution_count": 81,
     "metadata": {},
     "output_type": "execute_result"
    }
   ],
   "source": [
    "model_1.fit(scaled_X_train, y_train, epochs = 100, validation_data=(scaled_X_val, y_valid), verbose = 1)"
   ]
  },
  {
   "cell_type": "code",
   "execution_count": 82,
   "metadata": {},
   "outputs": [
    {
     "data": {
      "text/plain": [
       "<AxesSubplot:title={'center':'Training and validation loss'}, xlabel='Epochs', ylabel='Cross-entropy loss'>"
      ]
     },
     "execution_count": 82,
     "metadata": {},
     "output_type": "execute_result"
    },
    {
     "data": {
      "image/png": "[encoded data removed]",
      "text/plain": [
       "<Figure size 432x288 with 1 Axes>"
      ]
     },
     "metadata": {
      "needs_background": "light"
     },
     "output_type": "display_data"
    }
   ],
   "source": [
    "pd.DataFrame(model_1.history.history).plot(xlabel=\"Epochs\",\n",
    "                                         ylabel=\"Cross-entropy loss\", title=\"Training and validation loss\")"
   ]
  },
  {
   "cell_type": "markdown",
   "metadata": {},
   "source": [
    "MLP 2 hidden layer, 5 nodes"
   ]
  },
  {
   "cell_type": "code",
   "execution_count": 87,
   "metadata": {},
   "outputs": [
    {
     "name": "stdout",
     "output_type": "stream",
     "text": [
      "Model: \"MLP_initial\"\n",
      "_________________________________________________________________\n",
      " Layer (type)                Output Shape              Param #   \n",
      "=================================================================\n",
      " Hidden_layer1 (Dense)       (None, 5)                 50        \n",
      "                                                                 \n",
      " Hidden_layer2 (Dense)       (None, 5)                 30        \n",
      "                                                                 \n",
      " Output_layer (Dense)        (None, 1)                 6         \n",
      "                                                                 \n",
      "=================================================================\n",
      "Total params: 86\n",
      "Trainable params: 86\n",
      "Non-trainable params: 0\n",
      "_________________________________________________________________\n"
     ]
    }
   ],
   "source": [
    "model_2 = Sequential(name = \"MLP_initial\")\n",
    "model_2.add(InputLayer(X_train.shape[1], name = \"Input_layer\"))\n",
    "model_2.add(Dense(5, name = \"Hidden_layer1\", activation=\"relu\"))\n",
    "model_2.add(Dense(5, name = \"Hidden_layer2\", activation=\"relu\"))\n",
    "model_2.add(Dense(1, name = \"Output_layer\"))\n",
    "model_2.compile(loss =\"mean_squared_error\", optimizer=SGD(learning_rate=.01))\n",
    "model_2.summary()"
   ]
  },
  {
   "cell_type": "code",
   "execution_count": 88,
   "metadata": {},
   "outputs": [
    {
     "data": {
      "text/plain": [
       "<keras.callbacks.History at 0x17b2955dc70>"
      ]
     },
     "execution_count": 88,
     "metadata": {},
     "output_type": "execute_result"
    }
   ],
   "source": [
    "model_2.fit(scaled_X_train, y_train, epochs = 100, validation_data=(scaled_X_val, y_valid), verbose = 0)"
   ]
  },
  {
   "cell_type": "code",
   "execution_count": 89,
   "metadata": {},
   "outputs": [
    {
     "data": {
      "text/plain": [
       "<AxesSubplot:title={'center':'Training and validation loss'}, xlabel='Epochs', ylabel='Cross-entropy loss'>"
      ]
     },
     "execution_count": 89,
     "metadata": {},
     "output_type": "execute_result"
    },
    {
     "data": {
      "image/png": "[encoded data removed]",
      "text/plain": [
       "<Figure size 432x288 with 1 Axes>"
      ]
     },
     "metadata": {
      "needs_background": "light"
     },
     "output_type": "display_data"
    }
   ],
   "source": [
    "pd.DataFrame(model_2.history.history).plot(xlabel=\"Epochs\",\n",
    "                                         ylabel=\"Cross-entropy loss\", title=\"Training and validation loss\")"
   ]
  },
  {
   "cell_type": "markdown",
   "metadata": {},
   "source": [
    "## 1. MLP for classification (**)\n",
    "\n",
    "Use the heart dataset that you worked with in the lab in Machine learning course and train an MLP on it. Gather your knowledge of MLP from the lecture and from the previous exercise to try and see if you can outperform your previous model. Note that an important part is to perform systematic scientific experimentation. "
   ]
  },
  {
   "cell_type": "markdown",
   "metadata": {},
   "source": [
    "---\n",
    "\n",
    "Kokchun Giang\n",
    "\n",
    "[LinkedIn][linkedIn_kokchun]\n",
    "\n",
    "[GitHub portfolio][github_portfolio]\n",
    "\n",
    "[linkedIn_kokchun]: https://www.linkedin.com/in/kokchungiang/\n",
    "[github_portfolio]: https://github.com/kokchun/Portfolio-Kokchun-Giang\n",
    "\n",
    "---"
   ]
  }
 ],
 "metadata": {
  "interpreter": {
   "hash": "19203edef0a8a51ed3c4038ff0842258fac641730e561bd719ec2d7e1cdfb7cb"
  },
  "kernelspec": {
   "display_name": "Python 3.9.6 ('Deep_learning-JeCDGH9C')",
   "language": "python",
   "name": "python3"
  },
  "language_info": {
   "codemirror_mode": {
    "name": "ipython",
    "version": 3
   },
   "file_extension": ".py",
   "mimetype": "text/x-python",
   "name": "python",
   "nbconvert_exporter": "python",
   "pygments_lexer": "ipython3",
   "version": "3.9.6"
  },
  "orig_nbformat": 4
 },
 "nbformat": 4,
 "nbformat_minor": 2
}
